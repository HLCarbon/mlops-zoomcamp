{
 "cells": [
  {
   "cell_type": "code",
   "execution_count": 25,
   "id": "b2bd82d7",
   "metadata": {},
   "outputs": [
    {
     "name": "stdout",
     "output_type": "stream",
     "text": [
      "Python 3.12.2\n"
     ]
    }
   ],
   "source": [
    "!python -V"
   ]
  },
  {
   "cell_type": "code",
   "execution_count": 26,
   "id": "41062d8a",
   "metadata": {},
   "outputs": [],
   "source": [
    "import pandas as pd"
   ]
  },
  {
   "cell_type": "code",
   "execution_count": 27,
   "id": "c984c564",
   "metadata": {},
   "outputs": [],
   "source": [
    "import pickle"
   ]
  },
  {
   "cell_type": "code",
   "execution_count": 28,
   "id": "cdc8248c",
   "metadata": {},
   "outputs": [
    {
     "data": {
      "text/plain": [
       "<Experiment: artifact_location='file:///c:/Users/henri/Desktop/Ideias/MLOps/zoomcamp/mlops-zoomcamp/mlruns/1', creation_time=1754160086452, experiment_id='1', last_update_time=1754160086452, lifecycle_stage='active', name='nyc-taxi-experiment', tags={}>"
      ]
     },
     "execution_count": 28,
     "metadata": {},
     "output_type": "execute_result"
    }
   ],
   "source": [
    "\n",
    "import mlflow\n",
    "mlflow.set_tracking_uri(\"sqlite:///mlflow.db\")\n",
    "mlflow.set_experiment(\"nyc-taxi-experiment\")"
   ]
  },
  {
   "cell_type": "code",
   "execution_count": 29,
   "id": "4add538c",
   "metadata": {},
   "outputs": [],
   "source": [
    "import seaborn as sns\n",
    "import matplotlib.pyplot as plt"
   ]
  },
  {
   "cell_type": "code",
   "execution_count": 30,
   "id": "8b135c2b",
   "metadata": {},
   "outputs": [],
   "source": [
    "from sklearn.feature_extraction import DictVectorizer\n",
    "from sklearn.linear_model import LinearRegression\n",
    "from sklearn.linear_model import Lasso\n",
    "from sklearn.linear_model import Ridge\n",
    "\n",
    "from sklearn.metrics import root_mean_squared_error"
   ]
  },
  {
   "cell_type": "code",
   "execution_count": 31,
   "id": "f9e6479e",
   "metadata": {},
   "outputs": [],
   "source": [
    "def read_dataframe(filename):\n",
    "    if filename.endswith('.csv'):\n",
    "        df = pd.read_csv(filename)\n",
    "\n",
    "        df.lpep_dropoff_datetime = pd.to_datetime(df.lpep_dropoff_datetime)\n",
    "        df.lpep_pickup_datetime = pd.to_datetime(df.lpep_pickup_datetime)\n",
    "    elif filename.endswith('.parquet'):\n",
    "        df = pd.read_parquet(filename)\n",
    "\n",
    "    df['duration'] = df.lpep_dropoff_datetime - df.lpep_pickup_datetime\n",
    "    df.duration = df.duration.apply(lambda td: td.total_seconds() / 60)\n",
    "\n",
    "    df = df[(df.duration >= 1) & (df.duration <= 60)]\n",
    "\n",
    "    categorical = ['PULocationID', 'DOLocationID']\n",
    "    df[categorical] = df[categorical].astype(str)\n",
    "    \n",
    "    return df"
   ]
  },
  {
   "cell_type": "code",
   "execution_count": 32,
   "id": "8029eba0",
   "metadata": {},
   "outputs": [],
   "source": [
    "df_train = read_dataframe('./data/green_tripdata_2021-01.parquet')\n",
    "df_val = read_dataframe('./data/green_tripdata_2021-02.parquet')"
   ]
  },
  {
   "cell_type": "code",
   "execution_count": 33,
   "id": "f6f2f0eb",
   "metadata": {},
   "outputs": [
    {
     "data": {
      "text/plain": [
       "(73908, 61921)"
      ]
     },
     "execution_count": 33,
     "metadata": {},
     "output_type": "execute_result"
    }
   ],
   "source": [
    "len(df_train), len(df_val)"
   ]
  },
  {
   "cell_type": "code",
   "execution_count": 34,
   "id": "951d51ef",
   "metadata": {},
   "outputs": [],
   "source": [
    "df_train['PU_DO'] = df_train['PULocationID'] + '_' + df_train['DOLocationID']\n",
    "df_val['PU_DO'] = df_val['PULocationID'] + '_' + df_val['DOLocationID']"
   ]
  },
  {
   "cell_type": "code",
   "execution_count": 35,
   "id": "c5cbfc25",
   "metadata": {},
   "outputs": [],
   "source": [
    "categorical = ['PU_DO'] #'PULocationID', 'DOLocationID']\n",
    "numerical = ['trip_distance']\n",
    "\n",
    "dv = DictVectorizer()\n",
    "\n",
    "train_dicts = df_train[categorical + numerical].to_dict(orient='records')\n",
    "X_train = dv.fit_transform(train_dicts)\n",
    "\n",
    "val_dicts = df_val[categorical + numerical].to_dict(orient='records')\n",
    "X_val = dv.transform(val_dicts)"
   ]
  },
  {
   "cell_type": "code",
   "execution_count": 36,
   "id": "1e9fb68b",
   "metadata": {},
   "outputs": [],
   "source": [
    "target = 'duration'\n",
    "y_train = df_train[target].values\n",
    "y_val = df_val[target].values"
   ]
  },
  {
   "cell_type": "code",
   "execution_count": 37,
   "id": "429e2394",
   "metadata": {},
   "outputs": [
    {
     "data": {
      "text/plain": [
       "7.758715210601492"
      ]
     },
     "execution_count": 37,
     "metadata": {},
     "output_type": "execute_result"
    }
   ],
   "source": [
    "lr = LinearRegression()\n",
    "lr.fit(X_train, y_train)\n",
    "\n",
    "y_pred = lr.predict(X_val)\n",
    "\n",
    "root_mean_squared_error(y_val, y_pred)"
   ]
  },
  {
   "cell_type": "code",
   "execution_count": 38,
   "id": "22bf6f8b",
   "metadata": {},
   "outputs": [],
   "source": [
    "with open('models/lin_reg.bin', 'wb') as f_out:\n",
    "    pickle.dump((dv, lr), f_out)"
   ]
  },
  {
   "cell_type": "code",
   "execution_count": 40,
   "id": "a4999b94",
   "metadata": {},
   "outputs": [
    {
     "name": "stdout",
     "output_type": "stream",
     "text": [
      "rmse: 12.143233939842847\n"
     ]
    }
   ],
   "source": [
    "with mlflow.start_run():\n",
    "    mlflow.set_tag(\"developer\", \"henrique\")\n",
    "    mlflow.log_param(\"train-data-path\", \"./data/green_tripdata_2021-01.parquet\")\n",
    "    mlflow.log_param(\"valid-data-path\", \"./data/green_tripdata_2021-02.parquet\")\n",
    "    mlflow.log_param(\"model\", \"Lasso\")\n",
    "    mlflow.log_param(\"random_state\", 42)\n",
    "\n",
    "    alpha = 0.1\n",
    "    mlflow.log_param(\"alpha\",alpha)\n",
    "    lr = Lasso(alpha)\n",
    "    lr.fit(X_train, y_train)\n",
    "\n",
    "    y_pred = lr.predict(X_val)\n",
    "\n",
    "    rmse = root_mean_squared_error(y_val, y_pred)\n",
    "    mlflow.log_metric(\"rmse\", rmse)\n",
    "\n",
    "    print(f\"rmse: {rmse}\")\n",
    "\n",
    "    mlflow.log_artifact(local_path=\"models/lin_reg.bin\", artifact_path=\"models_pickle\")\n",
    "\n"
   ]
  },
  {
   "cell_type": "code",
   "execution_count": 20,
   "id": "47b0eb9b",
   "metadata": {},
   "outputs": [],
   "source": [
    "import xgboost as xgb\n",
    "\n",
    "from hyperopt import fmin, tpe, hp, STATUS_OK, Trials\n",
    "from hyperopt.pyll import scope"
   ]
  },
  {
   "cell_type": "code",
   "execution_count": 18,
   "id": "265b5a9a",
   "metadata": {},
   "outputs": [],
   "source": [
    "train = xgb.DMatrix(X_train, label=y_train)\n",
    "valid = xgb.DMatrix(X_val, label=y_val)"
   ]
  },
  {
   "cell_type": "code",
   "execution_count": 22,
   "id": "e00b6d85",
   "metadata": {},
   "outputs": [],
   "source": [
    "def objective(params):\n",
    "    with mlflow.start_run():\n",
    "        mlflow.set_tag(\"model\", \"xgboost\")\n",
    "        mlflow.log_params(params)\n",
    "        booster = xgb.train(\n",
    "            params = params, \n",
    "            dtrain = train,\n",
    "            num_boost_round = 100,\n",
    "            evals=[(valid, \"validation\")],\n",
    "            early_stopping_rounds=50,\n",
    "        )\n",
    "        y_pred = booster.predict(valid)\n",
    "        rmse = root_mean_squared_error(y_val, y_pred)\n",
    "        mlflow.log_metric(\"rmse\", rmse)\n",
    "        return {\"loss\": rmse, \"status\": STATUS_OK}\n",
    "\n"
   ]
  },
  {
   "cell_type": "code",
   "execution_count": 24,
   "id": "43872d0d",
   "metadata": {},
   "outputs": [
    {
     "name": "stdout",
     "output_type": "stream",
     "text": [
      "  0%|          | 0/50 [00:00<?, ?trial/s, best loss=?]"
     ]
    },
    {
     "name": "stderr",
     "output_type": "stream",
     "text": [
      "c:\\Users\\henri\\Desktop\\Ideias\\MLOps\\zoomcamp\\mlops-zoomcamp\\venv\\Lib\\site-packages\\xgboost\\callback.py:386: UserWarning: [21:03:34] WARNING: C:\\actions-runner\\_work\\xgboost\\xgboost\\src\\objective\\regression_obj.cu:245: reg:linear is now deprecated in favor of reg:squarederror.\n",
      "  self.starting_round = model.num_boosted_rounds()\n",
      "\n"
     ]
    },
    {
     "name": "stdout",
     "output_type": "stream",
     "text": [
      "[0]\tvalidation-rmse:8.42929                           \n",
      "[1]\tvalidation-rmse:7.28204                           \n",
      "[2]\tvalidation-rmse:6.95485                           \n",
      "[3]\tvalidation-rmse:6.85412                           \n",
      "[4]\tvalidation-rmse:6.80960                           \n",
      "[5]\tvalidation-rmse:6.79313                           \n",
      "[6]\tvalidation-rmse:6.78451                           \n",
      "[7]\tvalidation-rmse:6.77873                           \n",
      "[8]\tvalidation-rmse:6.77610                           \n",
      "[9]\tvalidation-rmse:6.76392                           \n",
      "[10]\tvalidation-rmse:6.76185                          \n",
      "[11]\tvalidation-rmse:6.75731                          \n",
      "[12]\tvalidation-rmse:6.75680                          \n",
      "[13]\tvalidation-rmse:6.75273                          \n",
      "[14]\tvalidation-rmse:6.75098                          \n",
      "[15]\tvalidation-rmse:6.74444                          \n",
      "[16]\tvalidation-rmse:6.74000                          \n",
      "[17]\tvalidation-rmse:6.73799                          \n",
      "[18]\tvalidation-rmse:6.73434                          \n",
      "[19]\tvalidation-rmse:6.73333                          \n",
      "[20]\tvalidation-rmse:6.73189                          \n",
      "[21]\tvalidation-rmse:6.72543                          \n",
      "[22]\tvalidation-rmse:6.72570                          \n",
      "[23]\tvalidation-rmse:6.72279                          \n",
      "[24]\tvalidation-rmse:6.72105                          \n",
      "[25]\tvalidation-rmse:6.71993                          \n",
      "[26]\tvalidation-rmse:6.71811                          \n",
      "[27]\tvalidation-rmse:6.71745                          \n",
      "[28]\tvalidation-rmse:6.71437                          \n",
      "[29]\tvalidation-rmse:6.71323                          \n",
      "[30]\tvalidation-rmse:6.71145                          \n",
      "[31]\tvalidation-rmse:6.71092                          \n",
      "[32]\tvalidation-rmse:6.70923                          \n",
      "[33]\tvalidation-rmse:6.70867                          \n",
      "[34]\tvalidation-rmse:6.70492                          \n",
      "[35]\tvalidation-rmse:6.70235                          \n",
      "[36]\tvalidation-rmse:6.69977                          \n",
      "[37]\tvalidation-rmse:6.69584                          \n",
      "[38]\tvalidation-rmse:6.69402                          \n",
      "[39]\tvalidation-rmse:6.69338                          \n",
      "[40]\tvalidation-rmse:6.69111                          \n",
      "[41]\tvalidation-rmse:6.68822                          \n",
      "[42]\tvalidation-rmse:6.68604                          \n",
      "[43]\tvalidation-rmse:6.68519                          \n",
      "[44]\tvalidation-rmse:6.68283                          \n",
      "[45]\tvalidation-rmse:6.67988                          \n",
      "[46]\tvalidation-rmse:6.67829                          \n",
      "[47]\tvalidation-rmse:6.67632                          \n",
      "[48]\tvalidation-rmse:6.67416                          \n",
      "[49]\tvalidation-rmse:6.67221                          \n",
      "[50]\tvalidation-rmse:6.67053                          \n",
      "[51]\tvalidation-rmse:6.66955                          \n",
      "[52]\tvalidation-rmse:6.66710                          \n",
      "[53]\tvalidation-rmse:6.66566                          \n",
      "[54]\tvalidation-rmse:6.66192                          \n",
      "[55]\tvalidation-rmse:6.65953                          \n",
      "[56]\tvalidation-rmse:6.65839                          \n",
      "[57]\tvalidation-rmse:6.65795                          \n",
      "[58]\tvalidation-rmse:6.65689                          \n",
      "[59]\tvalidation-rmse:6.65550                          \n",
      "[60]\tvalidation-rmse:6.65364                          \n",
      "[61]\tvalidation-rmse:6.65290                          \n",
      "[62]\tvalidation-rmse:6.65221                          \n",
      "[63]\tvalidation-rmse:6.64807                          \n",
      "[64]\tvalidation-rmse:6.64660                          \n",
      "[65]\tvalidation-rmse:6.64627                          \n",
      "[66]\tvalidation-rmse:6.64280                          \n",
      "[67]\tvalidation-rmse:6.64256                          \n",
      "[68]\tvalidation-rmse:6.64030                          \n",
      "[69]\tvalidation-rmse:6.63986                          \n",
      "[70]\tvalidation-rmse:6.63850                          \n",
      "[71]\tvalidation-rmse:6.63618                          \n",
      "[72]\tvalidation-rmse:6.63545                          \n",
      "[73]\tvalidation-rmse:6.63474                          \n",
      "[74]\tvalidation-rmse:6.63397                          \n",
      "[75]\tvalidation-rmse:6.63384                          \n",
      "[76]\tvalidation-rmse:6.63268                          \n",
      "[77]\tvalidation-rmse:6.63153                          \n",
      "[78]\tvalidation-rmse:6.63102                          \n",
      "[79]\tvalidation-rmse:6.62981                          \n",
      "[80]\tvalidation-rmse:6.62907                          \n",
      "[81]\tvalidation-rmse:6.62881                          \n",
      "[82]\tvalidation-rmse:6.62862                          \n",
      "[83]\tvalidation-rmse:6.62677                          \n",
      "[84]\tvalidation-rmse:6.62574                          \n",
      "[85]\tvalidation-rmse:6.62425                          \n",
      "[86]\tvalidation-rmse:6.62351                          \n",
      "[87]\tvalidation-rmse:6.62305                          \n",
      "[88]\tvalidation-rmse:6.62277                          \n",
      "[89]\tvalidation-rmse:6.62145                          \n",
      "[90]\tvalidation-rmse:6.61954                          \n",
      "[91]\tvalidation-rmse:6.61834                          \n",
      "[92]\tvalidation-rmse:6.61726                          \n",
      "[93]\tvalidation-rmse:6.61544                          \n",
      "[94]\tvalidation-rmse:6.61514                          \n",
      "[95]\tvalidation-rmse:6.61340                          \n",
      "[96]\tvalidation-rmse:6.61201                          \n",
      "[97]\tvalidation-rmse:6.61111                          \n",
      "[98]\tvalidation-rmse:6.61040                          \n",
      "[99]\tvalidation-rmse:6.61000                          \n",
      "  2%|▏         | 1/50 [00:07<05:53,  7.20s/trial, best loss: 6.610004737509731]"
     ]
    },
    {
     "name": "stderr",
     "output_type": "stream",
     "text": [
      "c:\\Users\\henri\\Desktop\\Ideias\\MLOps\\zoomcamp\\mlops-zoomcamp\\venv\\Lib\\site-packages\\xgboost\\callback.py:386: UserWarning: [21:03:42] WARNING: C:\\actions-runner\\_work\\xgboost\\xgboost\\src\\objective\\regression_obj.cu:245: reg:linear is now deprecated in favor of reg:squarederror.\n",
      "  self.starting_round = model.num_boosted_rounds()\n",
      "\n"
     ]
    },
    {
     "name": "stdout",
     "output_type": "stream",
     "text": [
      "[0]\tvalidation-rmse:10.49596                                                   \n",
      "[1]\tvalidation-rmse:9.28355                                                    \n",
      "[2]\tvalidation-rmse:8.44763                                                    \n",
      "  2%|▏         | 1/50 [00:07<06:31,  7.99s/trial, best loss: 6.610004737509731]\n"
     ]
    },
    {
     "ename": "KeyboardInterrupt",
     "evalue": "",
     "output_type": "error",
     "traceback": [
      "\u001b[31m---------------------------------------------------------------------------\u001b[39m",
      "\u001b[31mKeyboardInterrupt\u001b[39m                         Traceback (most recent call last)",
      "\u001b[36mCell\u001b[39m\u001b[36m \u001b[39m\u001b[32mIn[24]\u001b[39m\u001b[32m, line 11\u001b[39m\n\u001b[32m      1\u001b[39m search_space = {\n\u001b[32m      2\u001b[39m     \u001b[33m\"\u001b[39m\u001b[33mmax_depth\u001b[39m\u001b[33m\"\u001b[39m:scope.int(hp.quniform(\u001b[33m\"\u001b[39m\u001b[33mmax_depth\u001b[39m\u001b[33m\"\u001b[39m, \u001b[32m4\u001b[39m, \u001b[32m10\u001b[39m, \u001b[32m1\u001b[39m)),\n\u001b[32m      3\u001b[39m     \u001b[33m\"\u001b[39m\u001b[33mlearning_rate\u001b[39m\u001b[33m\"\u001b[39m:hp.loguniform(\u001b[33m\"\u001b[39m\u001b[33mlearning_rate\u001b[39m\u001b[33m\"\u001b[39m, -\u001b[32m3\u001b[39m, \u001b[32m0\u001b[39m),\n\u001b[32m   (...)\u001b[39m\u001b[32m      8\u001b[39m     \u001b[33m\"\u001b[39m\u001b[33mseed\u001b[39m\u001b[33m\"\u001b[39m:\u001b[32m42\u001b[39m,\n\u001b[32m      9\u001b[39m }\n\u001b[32m---> \u001b[39m\u001b[32m11\u001b[39m best_result = \u001b[43mfmin\u001b[49m\u001b[43m(\u001b[49m\n\u001b[32m     12\u001b[39m \u001b[43m    \u001b[49m\u001b[43mfn\u001b[49m\u001b[43m=\u001b[49m\u001b[43mobjective\u001b[49m\u001b[43m,\u001b[49m\n\u001b[32m     13\u001b[39m \u001b[43m    \u001b[49m\u001b[43mspace\u001b[49m\u001b[43m=\u001b[49m\u001b[43msearch_space\u001b[49m\u001b[43m,\u001b[49m\n\u001b[32m     14\u001b[39m \u001b[43m    \u001b[49m\u001b[43malgo\u001b[49m\u001b[43m=\u001b[49m\u001b[43mtpe\u001b[49m\u001b[43m.\u001b[49m\u001b[43msuggest\u001b[49m\u001b[43m,\u001b[49m\n\u001b[32m     15\u001b[39m \u001b[43m    \u001b[49m\u001b[43mmax_evals\u001b[49m\u001b[43m=\u001b[49m\u001b[32;43m50\u001b[39;49m\u001b[43m,\u001b[49m\n\u001b[32m     16\u001b[39m \u001b[43m    \u001b[49m\u001b[43mtrials\u001b[49m\u001b[43m=\u001b[49m\u001b[43mTrials\u001b[49m\u001b[43m(\u001b[49m\u001b[43m)\u001b[49m\u001b[43m,\u001b[49m\n\u001b[32m     17\u001b[39m \u001b[43m)\u001b[49m\n",
      "\u001b[36mFile \u001b[39m\u001b[32mc:\\Users\\henri\\Desktop\\Ideias\\MLOps\\zoomcamp\\mlops-zoomcamp\\venv\\Lib\\site-packages\\hyperopt\\fmin.py:540\u001b[39m, in \u001b[36mfmin\u001b[39m\u001b[34m(fn, space, algo, max_evals, timeout, loss_threshold, trials, rstate, allow_trials_fmin, pass_expr_memo_ctrl, catch_eval_exceptions, verbose, return_argmin, points_to_evaluate, max_queue_len, show_progressbar, early_stop_fn, trials_save_file)\u001b[39m\n\u001b[32m    537\u001b[39m     fn = __objective_fmin_wrapper(fn)\n\u001b[32m    539\u001b[39m \u001b[38;5;28;01mif\u001b[39;00m allow_trials_fmin \u001b[38;5;129;01mand\u001b[39;00m \u001b[38;5;28mhasattr\u001b[39m(trials, \u001b[33m\"\u001b[39m\u001b[33mfmin\u001b[39m\u001b[33m\"\u001b[39m):\n\u001b[32m--> \u001b[39m\u001b[32m540\u001b[39m     \u001b[38;5;28;01mreturn\u001b[39;00m \u001b[43mtrials\u001b[49m\u001b[43m.\u001b[49m\u001b[43mfmin\u001b[49m\u001b[43m(\u001b[49m\n\u001b[32m    541\u001b[39m \u001b[43m        \u001b[49m\u001b[43mfn\u001b[49m\u001b[43m,\u001b[49m\n\u001b[32m    542\u001b[39m \u001b[43m        \u001b[49m\u001b[43mspace\u001b[49m\u001b[43m,\u001b[49m\n\u001b[32m    543\u001b[39m \u001b[43m        \u001b[49m\u001b[43malgo\u001b[49m\u001b[43m=\u001b[49m\u001b[43malgo\u001b[49m\u001b[43m,\u001b[49m\n\u001b[32m    544\u001b[39m \u001b[43m        \u001b[49m\u001b[43mmax_evals\u001b[49m\u001b[43m=\u001b[49m\u001b[43mmax_evals\u001b[49m\u001b[43m,\u001b[49m\n\u001b[32m    545\u001b[39m \u001b[43m        \u001b[49m\u001b[43mtimeout\u001b[49m\u001b[43m=\u001b[49m\u001b[43mtimeout\u001b[49m\u001b[43m,\u001b[49m\n\u001b[32m    546\u001b[39m \u001b[43m        \u001b[49m\u001b[43mloss_threshold\u001b[49m\u001b[43m=\u001b[49m\u001b[43mloss_threshold\u001b[49m\u001b[43m,\u001b[49m\n\u001b[32m    547\u001b[39m \u001b[43m        \u001b[49m\u001b[43mmax_queue_len\u001b[49m\u001b[43m=\u001b[49m\u001b[43mmax_queue_len\u001b[49m\u001b[43m,\u001b[49m\n\u001b[32m    548\u001b[39m \u001b[43m        \u001b[49m\u001b[43mrstate\u001b[49m\u001b[43m=\u001b[49m\u001b[43mrstate\u001b[49m\u001b[43m,\u001b[49m\n\u001b[32m    549\u001b[39m \u001b[43m        \u001b[49m\u001b[43mpass_expr_memo_ctrl\u001b[49m\u001b[43m=\u001b[49m\u001b[43mpass_expr_memo_ctrl\u001b[49m\u001b[43m,\u001b[49m\n\u001b[32m    550\u001b[39m \u001b[43m        \u001b[49m\u001b[43mverbose\u001b[49m\u001b[43m=\u001b[49m\u001b[43mverbose\u001b[49m\u001b[43m,\u001b[49m\n\u001b[32m    551\u001b[39m \u001b[43m        \u001b[49m\u001b[43mcatch_eval_exceptions\u001b[49m\u001b[43m=\u001b[49m\u001b[43mcatch_eval_exceptions\u001b[49m\u001b[43m,\u001b[49m\n\u001b[32m    552\u001b[39m \u001b[43m        \u001b[49m\u001b[43mreturn_argmin\u001b[49m\u001b[43m=\u001b[49m\u001b[43mreturn_argmin\u001b[49m\u001b[43m,\u001b[49m\n\u001b[32m    553\u001b[39m \u001b[43m        \u001b[49m\u001b[43mshow_progressbar\u001b[49m\u001b[43m=\u001b[49m\u001b[43mshow_progressbar\u001b[49m\u001b[43m,\u001b[49m\n\u001b[32m    554\u001b[39m \u001b[43m        \u001b[49m\u001b[43mearly_stop_fn\u001b[49m\u001b[43m=\u001b[49m\u001b[43mearly_stop_fn\u001b[49m\u001b[43m,\u001b[49m\n\u001b[32m    555\u001b[39m \u001b[43m        \u001b[49m\u001b[43mtrials_save_file\u001b[49m\u001b[43m=\u001b[49m\u001b[43mtrials_save_file\u001b[49m\u001b[43m,\u001b[49m\n\u001b[32m    556\u001b[39m \u001b[43m    \u001b[49m\u001b[43m)\u001b[49m\n\u001b[32m    558\u001b[39m \u001b[38;5;28;01mif\u001b[39;00m trials \u001b[38;5;129;01mis\u001b[39;00m \u001b[38;5;28;01mNone\u001b[39;00m:\n\u001b[32m    559\u001b[39m     \u001b[38;5;28;01mif\u001b[39;00m os.path.exists(trials_save_file):\n",
      "\u001b[36mFile \u001b[39m\u001b[32mc:\\Users\\henri\\Desktop\\Ideias\\MLOps\\zoomcamp\\mlops-zoomcamp\\venv\\Lib\\site-packages\\hyperopt\\base.py:671\u001b[39m, in \u001b[36mTrials.fmin\u001b[39m\u001b[34m(self, fn, space, algo, max_evals, timeout, loss_threshold, max_queue_len, rstate, verbose, pass_expr_memo_ctrl, catch_eval_exceptions, return_argmin, show_progressbar, early_stop_fn, trials_save_file)\u001b[39m\n\u001b[32m    666\u001b[39m \u001b[38;5;66;03m# -- Stop-gap implementation!\u001b[39;00m\n\u001b[32m    667\u001b[39m \u001b[38;5;66;03m#    fmin should have been a Trials method in the first place\u001b[39;00m\n\u001b[32m    668\u001b[39m \u001b[38;5;66;03m#    but for now it's still sitting in another file.\u001b[39;00m\n\u001b[32m    669\u001b[39m \u001b[38;5;28;01mfrom\u001b[39;00m\u001b[38;5;250m \u001b[39m\u001b[34;01m.\u001b[39;00m\u001b[34;01mfmin\u001b[39;00m\u001b[38;5;250m \u001b[39m\u001b[38;5;28;01mimport\u001b[39;00m fmin\n\u001b[32m--> \u001b[39m\u001b[32m671\u001b[39m \u001b[38;5;28;01mreturn\u001b[39;00m \u001b[43mfmin\u001b[49m\u001b[43m(\u001b[49m\n\u001b[32m    672\u001b[39m \u001b[43m    \u001b[49m\u001b[43mfn\u001b[49m\u001b[43m,\u001b[49m\n\u001b[32m    673\u001b[39m \u001b[43m    \u001b[49m\u001b[43mspace\u001b[49m\u001b[43m,\u001b[49m\n\u001b[32m    674\u001b[39m \u001b[43m    \u001b[49m\u001b[43malgo\u001b[49m\u001b[43m=\u001b[49m\u001b[43malgo\u001b[49m\u001b[43m,\u001b[49m\n\u001b[32m    675\u001b[39m \u001b[43m    \u001b[49m\u001b[43mmax_evals\u001b[49m\u001b[43m=\u001b[49m\u001b[43mmax_evals\u001b[49m\u001b[43m,\u001b[49m\n\u001b[32m    676\u001b[39m \u001b[43m    \u001b[49m\u001b[43mtimeout\u001b[49m\u001b[43m=\u001b[49m\u001b[43mtimeout\u001b[49m\u001b[43m,\u001b[49m\n\u001b[32m    677\u001b[39m \u001b[43m    \u001b[49m\u001b[43mloss_threshold\u001b[49m\u001b[43m=\u001b[49m\u001b[43mloss_threshold\u001b[49m\u001b[43m,\u001b[49m\n\u001b[32m    678\u001b[39m \u001b[43m    \u001b[49m\u001b[43mtrials\u001b[49m\u001b[43m=\u001b[49m\u001b[38;5;28;43mself\u001b[39;49m\u001b[43m,\u001b[49m\n\u001b[32m    679\u001b[39m \u001b[43m    \u001b[49m\u001b[43mrstate\u001b[49m\u001b[43m=\u001b[49m\u001b[43mrstate\u001b[49m\u001b[43m,\u001b[49m\n\u001b[32m    680\u001b[39m \u001b[43m    \u001b[49m\u001b[43mverbose\u001b[49m\u001b[43m=\u001b[49m\u001b[43mverbose\u001b[49m\u001b[43m,\u001b[49m\n\u001b[32m    681\u001b[39m \u001b[43m    \u001b[49m\u001b[43mmax_queue_len\u001b[49m\u001b[43m=\u001b[49m\u001b[43mmax_queue_len\u001b[49m\u001b[43m,\u001b[49m\n\u001b[32m    682\u001b[39m \u001b[43m    \u001b[49m\u001b[43mallow_trials_fmin\u001b[49m\u001b[43m=\u001b[49m\u001b[38;5;28;43;01mFalse\u001b[39;49;00m\u001b[43m,\u001b[49m\u001b[43m  \u001b[49m\u001b[38;5;66;43;03m# -- prevent recursion\u001b[39;49;00m\n\u001b[32m    683\u001b[39m \u001b[43m    \u001b[49m\u001b[43mpass_expr_memo_ctrl\u001b[49m\u001b[43m=\u001b[49m\u001b[43mpass_expr_memo_ctrl\u001b[49m\u001b[43m,\u001b[49m\n\u001b[32m    684\u001b[39m \u001b[43m    \u001b[49m\u001b[43mcatch_eval_exceptions\u001b[49m\u001b[43m=\u001b[49m\u001b[43mcatch_eval_exceptions\u001b[49m\u001b[43m,\u001b[49m\n\u001b[32m    685\u001b[39m \u001b[43m    \u001b[49m\u001b[43mreturn_argmin\u001b[49m\u001b[43m=\u001b[49m\u001b[43mreturn_argmin\u001b[49m\u001b[43m,\u001b[49m\n\u001b[32m    686\u001b[39m \u001b[43m    \u001b[49m\u001b[43mshow_progressbar\u001b[49m\u001b[43m=\u001b[49m\u001b[43mshow_progressbar\u001b[49m\u001b[43m,\u001b[49m\n\u001b[32m    687\u001b[39m \u001b[43m    \u001b[49m\u001b[43mearly_stop_fn\u001b[49m\u001b[43m=\u001b[49m\u001b[43mearly_stop_fn\u001b[49m\u001b[43m,\u001b[49m\n\u001b[32m    688\u001b[39m \u001b[43m    \u001b[49m\u001b[43mtrials_save_file\u001b[49m\u001b[43m=\u001b[49m\u001b[43mtrials_save_file\u001b[49m\u001b[43m,\u001b[49m\n\u001b[32m    689\u001b[39m \u001b[43m\u001b[49m\u001b[43m)\u001b[49m\n",
      "\u001b[36mFile \u001b[39m\u001b[32mc:\\Users\\henri\\Desktop\\Ideias\\MLOps\\zoomcamp\\mlops-zoomcamp\\venv\\Lib\\site-packages\\hyperopt\\fmin.py:586\u001b[39m, in \u001b[36mfmin\u001b[39m\u001b[34m(fn, space, algo, max_evals, timeout, loss_threshold, trials, rstate, allow_trials_fmin, pass_expr_memo_ctrl, catch_eval_exceptions, verbose, return_argmin, points_to_evaluate, max_queue_len, show_progressbar, early_stop_fn, trials_save_file)\u001b[39m\n\u001b[32m    583\u001b[39m rval.catch_eval_exceptions = catch_eval_exceptions\n\u001b[32m    585\u001b[39m \u001b[38;5;66;03m# next line is where the fmin is actually executed\u001b[39;00m\n\u001b[32m--> \u001b[39m\u001b[32m586\u001b[39m \u001b[43mrval\u001b[49m\u001b[43m.\u001b[49m\u001b[43mexhaust\u001b[49m\u001b[43m(\u001b[49m\u001b[43m)\u001b[49m\n\u001b[32m    588\u001b[39m \u001b[38;5;28;01mif\u001b[39;00m return_argmin:\n\u001b[32m    589\u001b[39m     \u001b[38;5;28;01mif\u001b[39;00m \u001b[38;5;28mlen\u001b[39m(trials.trials) == \u001b[32m0\u001b[39m:\n",
      "\u001b[36mFile \u001b[39m\u001b[32mc:\\Users\\henri\\Desktop\\Ideias\\MLOps\\zoomcamp\\mlops-zoomcamp\\venv\\Lib\\site-packages\\hyperopt\\fmin.py:364\u001b[39m, in \u001b[36mFMinIter.exhaust\u001b[39m\u001b[34m(self)\u001b[39m\n\u001b[32m    362\u001b[39m \u001b[38;5;28;01mdef\u001b[39;00m\u001b[38;5;250m \u001b[39m\u001b[34mexhaust\u001b[39m(\u001b[38;5;28mself\u001b[39m):\n\u001b[32m    363\u001b[39m     n_done = \u001b[38;5;28mlen\u001b[39m(\u001b[38;5;28mself\u001b[39m.trials)\n\u001b[32m--> \u001b[39m\u001b[32m364\u001b[39m     \u001b[38;5;28;43mself\u001b[39;49m\u001b[43m.\u001b[49m\u001b[43mrun\u001b[49m\u001b[43m(\u001b[49m\u001b[38;5;28;43mself\u001b[39;49m\u001b[43m.\u001b[49m\u001b[43mmax_evals\u001b[49m\u001b[43m \u001b[49m\u001b[43m-\u001b[49m\u001b[43m \u001b[49m\u001b[43mn_done\u001b[49m\u001b[43m,\u001b[49m\u001b[43m \u001b[49m\u001b[43mblock_until_done\u001b[49m\u001b[43m=\u001b[49m\u001b[38;5;28;43mself\u001b[39;49m\u001b[43m.\u001b[49m\u001b[43masynchronous\u001b[49m\u001b[43m)\u001b[49m\n\u001b[32m    365\u001b[39m     \u001b[38;5;28mself\u001b[39m.trials.refresh()\n\u001b[32m    366\u001b[39m     \u001b[38;5;28;01mreturn\u001b[39;00m \u001b[38;5;28mself\u001b[39m\n",
      "\u001b[36mFile \u001b[39m\u001b[32mc:\\Users\\henri\\Desktop\\Ideias\\MLOps\\zoomcamp\\mlops-zoomcamp\\venv\\Lib\\site-packages\\hyperopt\\fmin.py:300\u001b[39m, in \u001b[36mFMinIter.run\u001b[39m\u001b[34m(self, N, block_until_done)\u001b[39m\n\u001b[32m    297\u001b[39m     time.sleep(\u001b[38;5;28mself\u001b[39m.poll_interval_secs)\n\u001b[32m    298\u001b[39m \u001b[38;5;28;01melse\u001b[39;00m:\n\u001b[32m    299\u001b[39m     \u001b[38;5;66;03m# -- loop over trials and do the jobs directly\u001b[39;00m\n\u001b[32m--> \u001b[39m\u001b[32m300\u001b[39m     \u001b[38;5;28;43mself\u001b[39;49m\u001b[43m.\u001b[49m\u001b[43mserial_evaluate\u001b[49m\u001b[43m(\u001b[49m\u001b[43m)\u001b[49m\n\u001b[32m    302\u001b[39m \u001b[38;5;28mself\u001b[39m.trials.refresh()\n\u001b[32m    303\u001b[39m \u001b[38;5;28;01mif\u001b[39;00m \u001b[38;5;28mself\u001b[39m.trials_save_file != \u001b[33m\"\u001b[39m\u001b[33m\"\u001b[39m:\n",
      "\u001b[36mFile \u001b[39m\u001b[32mc:\\Users\\henri\\Desktop\\Ideias\\MLOps\\zoomcamp\\mlops-zoomcamp\\venv\\Lib\\site-packages\\hyperopt\\fmin.py:178\u001b[39m, in \u001b[36mFMinIter.serial_evaluate\u001b[39m\u001b[34m(self, N)\u001b[39m\n\u001b[32m    176\u001b[39m ctrl = base.Ctrl(\u001b[38;5;28mself\u001b[39m.trials, current_trial=trial)\n\u001b[32m    177\u001b[39m \u001b[38;5;28;01mtry\u001b[39;00m:\n\u001b[32m--> \u001b[39m\u001b[32m178\u001b[39m     result = \u001b[38;5;28;43mself\u001b[39;49m\u001b[43m.\u001b[49m\u001b[43mdomain\u001b[49m\u001b[43m.\u001b[49m\u001b[43mevaluate\u001b[49m\u001b[43m(\u001b[49m\u001b[43mspec\u001b[49m\u001b[43m,\u001b[49m\u001b[43m \u001b[49m\u001b[43mctrl\u001b[49m\u001b[43m)\u001b[49m\n\u001b[32m    179\u001b[39m \u001b[38;5;28;01mexcept\u001b[39;00m \u001b[38;5;167;01mException\u001b[39;00m \u001b[38;5;28;01mas\u001b[39;00m e:\n\u001b[32m    180\u001b[39m     logger.error(\u001b[33m\"\u001b[39m\u001b[33mjob exception: \u001b[39m\u001b[38;5;132;01m%s\u001b[39;00m\u001b[33m\"\u001b[39m % \u001b[38;5;28mstr\u001b[39m(e))\n",
      "\u001b[36mFile \u001b[39m\u001b[32mc:\\Users\\henri\\Desktop\\Ideias\\MLOps\\zoomcamp\\mlops-zoomcamp\\venv\\Lib\\site-packages\\hyperopt\\base.py:892\u001b[39m, in \u001b[36mDomain.evaluate\u001b[39m\u001b[34m(self, config, ctrl, attach_attachments)\u001b[39m\n\u001b[32m    883\u001b[39m \u001b[38;5;28;01melse\u001b[39;00m:\n\u001b[32m    884\u001b[39m     \u001b[38;5;66;03m# -- the \"work\" of evaluating `config` can be written\u001b[39;00m\n\u001b[32m    885\u001b[39m     \u001b[38;5;66;03m#    either into the pyll part (self.expr)\u001b[39;00m\n\u001b[32m    886\u001b[39m     \u001b[38;5;66;03m#    or the normal Python part (self.fn)\u001b[39;00m\n\u001b[32m    887\u001b[39m     pyll_rval = pyll.rec_eval(\n\u001b[32m    888\u001b[39m         \u001b[38;5;28mself\u001b[39m.expr,\n\u001b[32m    889\u001b[39m         memo=memo,\n\u001b[32m    890\u001b[39m         print_node_on_error=\u001b[38;5;28mself\u001b[39m.rec_eval_print_node_on_error,\n\u001b[32m    891\u001b[39m     )\n\u001b[32m--> \u001b[39m\u001b[32m892\u001b[39m     rval = \u001b[38;5;28;43mself\u001b[39;49m\u001b[43m.\u001b[49m\u001b[43mfn\u001b[49m\u001b[43m(\u001b[49m\u001b[43mpyll_rval\u001b[49m\u001b[43m)\u001b[49m\n\u001b[32m    894\u001b[39m \u001b[38;5;28;01mif\u001b[39;00m \u001b[38;5;28misinstance\u001b[39m(rval, (\u001b[38;5;28mfloat\u001b[39m, \u001b[38;5;28mint\u001b[39m, np.number)):\n\u001b[32m    895\u001b[39m     dict_rval = {\u001b[33m\"\u001b[39m\u001b[33mloss\u001b[39m\u001b[33m\"\u001b[39m: \u001b[38;5;28mfloat\u001b[39m(rval), \u001b[33m\"\u001b[39m\u001b[33mstatus\u001b[39m\u001b[33m\"\u001b[39m: STATUS_OK}\n",
      "\u001b[36mCell\u001b[39m\u001b[36m \u001b[39m\u001b[32mIn[22]\u001b[39m\u001b[32m, line 5\u001b[39m, in \u001b[36mobjective\u001b[39m\u001b[34m(params)\u001b[39m\n\u001b[32m      3\u001b[39m mlflow.set_tag(\u001b[33m\"\u001b[39m\u001b[33mmodel\u001b[39m\u001b[33m\"\u001b[39m, \u001b[33m\"\u001b[39m\u001b[33mxgboost\u001b[39m\u001b[33m\"\u001b[39m)\n\u001b[32m      4\u001b[39m mlflow.log_params(params)\n\u001b[32m----> \u001b[39m\u001b[32m5\u001b[39m booster = \u001b[43mxgb\u001b[49m\u001b[43m.\u001b[49m\u001b[43mtrain\u001b[49m\u001b[43m(\u001b[49m\n\u001b[32m      6\u001b[39m \u001b[43m    \u001b[49m\u001b[43mparams\u001b[49m\u001b[43m \u001b[49m\u001b[43m=\u001b[49m\u001b[43m \u001b[49m\u001b[43mparams\u001b[49m\u001b[43m,\u001b[49m\u001b[43m \u001b[49m\n\u001b[32m      7\u001b[39m \u001b[43m    \u001b[49m\u001b[43mdtrain\u001b[49m\u001b[43m \u001b[49m\u001b[43m=\u001b[49m\u001b[43m \u001b[49m\u001b[43mtrain\u001b[49m\u001b[43m,\u001b[49m\n\u001b[32m      8\u001b[39m \u001b[43m    \u001b[49m\u001b[43mnum_boost_round\u001b[49m\u001b[43m \u001b[49m\u001b[43m=\u001b[49m\u001b[43m \u001b[49m\u001b[32;43m100\u001b[39;49m\u001b[43m,\u001b[49m\n\u001b[32m      9\u001b[39m \u001b[43m    \u001b[49m\u001b[43mevals\u001b[49m\u001b[43m=\u001b[49m\u001b[43m[\u001b[49m\u001b[43m(\u001b[49m\u001b[43mvalid\u001b[49m\u001b[43m,\u001b[49m\u001b[43m \u001b[49m\u001b[33;43m\"\u001b[39;49m\u001b[33;43mvalidation\u001b[39;49m\u001b[33;43m\"\u001b[39;49m\u001b[43m)\u001b[49m\u001b[43m]\u001b[49m\u001b[43m,\u001b[49m\n\u001b[32m     10\u001b[39m \u001b[43m    \u001b[49m\u001b[43mearly_stopping_rounds\u001b[49m\u001b[43m=\u001b[49m\u001b[32;43m50\u001b[39;49m\u001b[43m,\u001b[49m\n\u001b[32m     11\u001b[39m \u001b[43m\u001b[49m\u001b[43m)\u001b[49m\n\u001b[32m     12\u001b[39m y_pred = booster.predict(valid)\n\u001b[32m     13\u001b[39m rmse = root_mean_squared_error(y_val, y_pred)\n",
      "\u001b[36mFile \u001b[39m\u001b[32mc:\\Users\\henri\\Desktop\\Ideias\\MLOps\\zoomcamp\\mlops-zoomcamp\\venv\\Lib\\site-packages\\xgboost\\core.py:729\u001b[39m, in \u001b[36mrequire_keyword_args.<locals>.throw_if.<locals>.inner_f\u001b[39m\u001b[34m(*args, **kwargs)\u001b[39m\n\u001b[32m    727\u001b[39m \u001b[38;5;28;01mfor\u001b[39;00m k, arg \u001b[38;5;129;01min\u001b[39;00m \u001b[38;5;28mzip\u001b[39m(sig.parameters, args):\n\u001b[32m    728\u001b[39m     kwargs[k] = arg\n\u001b[32m--> \u001b[39m\u001b[32m729\u001b[39m \u001b[38;5;28;01mreturn\u001b[39;00m \u001b[43mfunc\u001b[49m\u001b[43m(\u001b[49m\u001b[43m*\u001b[49m\u001b[43m*\u001b[49m\u001b[43mkwargs\u001b[49m\u001b[43m)\u001b[49m\n",
      "\u001b[36mFile \u001b[39m\u001b[32mc:\\Users\\henri\\Desktop\\Ideias\\MLOps\\zoomcamp\\mlops-zoomcamp\\venv\\Lib\\site-packages\\xgboost\\training.py:183\u001b[39m, in \u001b[36mtrain\u001b[39m\u001b[34m(params, dtrain, num_boost_round, evals, obj, maximize, early_stopping_rounds, evals_result, verbose_eval, xgb_model, callbacks, custom_metric)\u001b[39m\n\u001b[32m    181\u001b[39m \u001b[38;5;28;01mif\u001b[39;00m cb_container.before_iteration(bst, i, dtrain, evals):\n\u001b[32m    182\u001b[39m     \u001b[38;5;28;01mbreak\u001b[39;00m\n\u001b[32m--> \u001b[39m\u001b[32m183\u001b[39m \u001b[43mbst\u001b[49m\u001b[43m.\u001b[49m\u001b[43mupdate\u001b[49m\u001b[43m(\u001b[49m\u001b[43mdtrain\u001b[49m\u001b[43m,\u001b[49m\u001b[43m \u001b[49m\u001b[43miteration\u001b[49m\u001b[43m=\u001b[49m\u001b[43mi\u001b[49m\u001b[43m,\u001b[49m\u001b[43m \u001b[49m\u001b[43mfobj\u001b[49m\u001b[43m=\u001b[49m\u001b[43mobj\u001b[49m\u001b[43m)\u001b[49m\n\u001b[32m    184\u001b[39m \u001b[38;5;28;01mif\u001b[39;00m cb_container.after_iteration(bst, i, dtrain, evals):\n\u001b[32m    185\u001b[39m     \u001b[38;5;28;01mbreak\u001b[39;00m\n",
      "\u001b[36mFile \u001b[39m\u001b[32mc:\\Users\\henri\\Desktop\\Ideias\\MLOps\\zoomcamp\\mlops-zoomcamp\\venv\\Lib\\site-packages\\xgboost\\core.py:2247\u001b[39m, in \u001b[36mBooster.update\u001b[39m\u001b[34m(self, dtrain, iteration, fobj)\u001b[39m\n\u001b[32m   2243\u001b[39m \u001b[38;5;28mself\u001b[39m._assign_dmatrix_features(dtrain)\n\u001b[32m   2245\u001b[39m \u001b[38;5;28;01mif\u001b[39;00m fobj \u001b[38;5;129;01mis\u001b[39;00m \u001b[38;5;28;01mNone\u001b[39;00m:\n\u001b[32m   2246\u001b[39m     _check_call(\n\u001b[32m-> \u001b[39m\u001b[32m2247\u001b[39m         \u001b[43m_LIB\u001b[49m\u001b[43m.\u001b[49m\u001b[43mXGBoosterUpdateOneIter\u001b[49m\u001b[43m(\u001b[49m\n\u001b[32m   2248\u001b[39m \u001b[43m            \u001b[49m\u001b[38;5;28;43mself\u001b[39;49m\u001b[43m.\u001b[49m\u001b[43mhandle\u001b[49m\u001b[43m,\u001b[49m\u001b[43m \u001b[49m\u001b[43mctypes\u001b[49m\u001b[43m.\u001b[49m\u001b[43mc_int\u001b[49m\u001b[43m(\u001b[49m\u001b[43miteration\u001b[49m\u001b[43m)\u001b[49m\u001b[43m,\u001b[49m\u001b[43m \u001b[49m\u001b[43mdtrain\u001b[49m\u001b[43m.\u001b[49m\u001b[43mhandle\u001b[49m\n\u001b[32m   2249\u001b[39m \u001b[43m        \u001b[49m\u001b[43m)\u001b[49m\n\u001b[32m   2250\u001b[39m     )\n\u001b[32m   2251\u001b[39m \u001b[38;5;28;01melse\u001b[39;00m:\n\u001b[32m   2252\u001b[39m     pred = \u001b[38;5;28mself\u001b[39m.predict(dtrain, output_margin=\u001b[38;5;28;01mTrue\u001b[39;00m, training=\u001b[38;5;28;01mTrue\u001b[39;00m)\n",
      "\u001b[31mKeyboardInterrupt\u001b[39m: "
     ]
    }
   ],
   "source": [
    "search_space = {\n",
    "    \"max_depth\":scope.int(hp.quniform(\"max_depth\", 4, 10, 1)),\n",
    "    \"learning_rate\":hp.loguniform(\"learning_rate\", -3, 0),\n",
    "    \"reg_alpha\":hp.loguniform(\"reg_alpha\", -5, -1),\n",
    "    \"reg_lambda\":hp.loguniform(\"reg_lambda\", -6, 1),\n",
    "    \"min_child_weight\":hp.loguniform(\"iiiii\", -1, 3),\n",
    "    \"objective\":\"reg:linear\",\n",
    "    \"seed\":42,\n",
    "}\n",
    "\n",
    "best_result = fmin(\n",
    "    fn=objective,\n",
    "    space=search_space,\n",
    "    algo=tpe.suggest,\n",
    "    max_evals=50,\n",
    "    trials=Trials(),\n",
    ")"
   ]
  },
  {
   "cell_type": "code",
   "execution_count": 56,
   "id": "cb9e6dd2",
   "metadata": {},
   "outputs": [
    {
     "name": "stderr",
     "output_type": "stream",
     "text": [
      "c:\\Users\\henri\\Desktop\\Ideias\\MLOps\\zoomcamp\\mlops-zoomcamp\\venv\\Lib\\site-packages\\xgboost\\callback.py:386: UserWarning: [19:36:35] WARNING: C:\\actions-runner\\_work\\xgboost\\xgboost\\src\\objective\\regression_obj.cu:245: reg:linear is now deprecated in favor of reg:squarederror.\n",
      "  self.starting_round = model.num_boosted_rounds()\n"
     ]
    },
    {
     "name": "stdout",
     "output_type": "stream",
     "text": [
      "[0]\tvalidation-rmse:7.26875\n",
      "[1]\tvalidation-rmse:6.79091\n",
      "[2]\tvalidation-rmse:6.71203\n",
      "[3]\tvalidation-rmse:6.69987\n",
      "[4]\tvalidation-rmse:6.68009\n",
      "[5]\tvalidation-rmse:6.67416\n",
      "[6]\tvalidation-rmse:6.67086\n",
      "[7]\tvalidation-rmse:6.66772\n",
      "[8]\tvalidation-rmse:6.66102\n",
      "[9]\tvalidation-rmse:6.65331\n",
      "[10]\tvalidation-rmse:6.64713\n",
      "[11]\tvalidation-rmse:6.63922\n",
      "[12]\tvalidation-rmse:6.63397\n",
      "[13]\tvalidation-rmse:6.62968\n",
      "[14]\tvalidation-rmse:6.62684\n",
      "[15]\tvalidation-rmse:6.61993\n",
      "[16]\tvalidation-rmse:6.61511\n",
      "[17]\tvalidation-rmse:6.61312\n",
      "[18]\tvalidation-rmse:6.60978\n",
      "[19]\tvalidation-rmse:6.60840\n",
      "[20]\tvalidation-rmse:6.60337\n",
      "[21]\tvalidation-rmse:6.60087\n",
      "[22]\tvalidation-rmse:6.59904\n",
      "[23]\tvalidation-rmse:6.59633\n",
      "[24]\tvalidation-rmse:6.59292\n",
      "[25]\tvalidation-rmse:6.58808\n",
      "[26]\tvalidation-rmse:6.58365\n",
      "[27]\tvalidation-rmse:6.58097\n",
      "[28]\tvalidation-rmse:6.57613\n",
      "[29]\tvalidation-rmse:6.57571\n",
      "[30]\tvalidation-rmse:6.57336\n",
      "[31]\tvalidation-rmse:6.57172\n",
      "[32]\tvalidation-rmse:6.56751\n",
      "[33]\tvalidation-rmse:6.56526\n",
      "[34]\tvalidation-rmse:6.56222\n",
      "[35]\tvalidation-rmse:6.55854\n",
      "[36]\tvalidation-rmse:6.55767\n",
      "[37]\tvalidation-rmse:6.55601\n",
      "[38]\tvalidation-rmse:6.55296\n",
      "[39]\tvalidation-rmse:6.55047\n",
      "[40]\tvalidation-rmse:6.54863\n",
      "[41]\tvalidation-rmse:6.54688\n",
      "[42]\tvalidation-rmse:6.54580\n",
      "[43]\tvalidation-rmse:6.54148\n",
      "[44]\tvalidation-rmse:6.53806\n",
      "[45]\tvalidation-rmse:6.53699\n",
      "[46]\tvalidation-rmse:6.53506\n",
      "[47]\tvalidation-rmse:6.53452\n",
      "[48]\tvalidation-rmse:6.53200\n",
      "[49]\tvalidation-rmse:6.53206\n",
      "[50]\tvalidation-rmse:6.53041\n",
      "[51]\tvalidation-rmse:6.52896\n",
      "[52]\tvalidation-rmse:6.52915\n",
      "[53]\tvalidation-rmse:6.52617\n",
      "[54]\tvalidation-rmse:6.52554\n",
      "[55]\tvalidation-rmse:6.52367\n",
      "[56]\tvalidation-rmse:6.52126\n",
      "[57]\tvalidation-rmse:6.52193\n",
      "[58]\tvalidation-rmse:6.51783\n",
      "[59]\tvalidation-rmse:6.51677\n",
      "[60]\tvalidation-rmse:6.51519\n",
      "[61]\tvalidation-rmse:6.51384\n",
      "[62]\tvalidation-rmse:6.51231\n",
      "[63]\tvalidation-rmse:6.51118\n",
      "[64]\tvalidation-rmse:6.50781\n",
      "[65]\tvalidation-rmse:6.50625\n",
      "[66]\tvalidation-rmse:6.50502\n",
      "[67]\tvalidation-rmse:6.50449\n",
      "[68]\tvalidation-rmse:6.50354\n",
      "[69]\tvalidation-rmse:6.50273\n",
      "[70]\tvalidation-rmse:6.50159\n",
      "[71]\tvalidation-rmse:6.50116\n",
      "[72]\tvalidation-rmse:6.50108\n",
      "[73]\tvalidation-rmse:6.49985\n",
      "[74]\tvalidation-rmse:6.49857\n",
      "[75]\tvalidation-rmse:6.49810\n",
      "[76]\tvalidation-rmse:6.49800\n",
      "[77]\tvalidation-rmse:6.49829\n",
      "[78]\tvalidation-rmse:6.49756\n",
      "[79]\tvalidation-rmse:6.49589\n",
      "[80]\tvalidation-rmse:6.49564\n",
      "[81]\tvalidation-rmse:6.49444\n",
      "[82]\tvalidation-rmse:6.49270\n",
      "[83]\tvalidation-rmse:6.49152\n",
      "[84]\tvalidation-rmse:6.49076\n",
      "[85]\tvalidation-rmse:6.48919\n",
      "[86]\tvalidation-rmse:6.48857\n",
      "[87]\tvalidation-rmse:6.48858\n",
      "[88]\tvalidation-rmse:6.48807\n",
      "[89]\tvalidation-rmse:6.48800\n",
      "[90]\tvalidation-rmse:6.48755\n",
      "[91]\tvalidation-rmse:6.48695\n",
      "[92]\tvalidation-rmse:6.48286\n",
      "[93]\tvalidation-rmse:6.48233\n",
      "[94]\tvalidation-rmse:6.48151\n",
      "[95]\tvalidation-rmse:6.47908\n",
      "[96]\tvalidation-rmse:6.47865\n",
      "[97]\tvalidation-rmse:6.47843\n",
      "[98]\tvalidation-rmse:6.47793\n",
      "[99]\tvalidation-rmse:6.47464\n",
      "[100]\tvalidation-rmse:6.47415\n",
      "[101]\tvalidation-rmse:6.47417\n",
      "[102]\tvalidation-rmse:6.47360\n",
      "[103]\tvalidation-rmse:6.47316\n",
      "[104]\tvalidation-rmse:6.47323\n",
      "[105]\tvalidation-rmse:6.47373\n",
      "[106]\tvalidation-rmse:6.47326\n",
      "[107]\tvalidation-rmse:6.47271\n",
      "[108]\tvalidation-rmse:6.47265\n",
      "[109]\tvalidation-rmse:6.47243\n",
      "[110]\tvalidation-rmse:6.47195\n",
      "[111]\tvalidation-rmse:6.47128\n",
      "[112]\tvalidation-rmse:6.47097\n",
      "[113]\tvalidation-rmse:6.47092\n",
      "[114]\tvalidation-rmse:6.47054\n",
      "[115]\tvalidation-rmse:6.47035\n",
      "[116]\tvalidation-rmse:6.47057\n",
      "[117]\tvalidation-rmse:6.46989\n",
      "[118]\tvalidation-rmse:6.46964\n",
      "[119]\tvalidation-rmse:6.46866\n",
      "[120]\tvalidation-rmse:6.46901\n",
      "[121]\tvalidation-rmse:6.46893\n",
      "[122]\tvalidation-rmse:6.46893\n",
      "[123]\tvalidation-rmse:6.46891\n",
      "[124]\tvalidation-rmse:6.46697\n",
      "[125]\tvalidation-rmse:6.46624\n",
      "[126]\tvalidation-rmse:6.46647\n",
      "[127]\tvalidation-rmse:6.46616\n",
      "[128]\tvalidation-rmse:6.46574\n",
      "[129]\tvalidation-rmse:6.46523\n",
      "[130]\tvalidation-rmse:6.46517\n",
      "[131]\tvalidation-rmse:6.46461\n",
      "[132]\tvalidation-rmse:6.46477\n",
      "[133]\tvalidation-rmse:6.46274\n",
      "[134]\tvalidation-rmse:6.46248\n",
      "[135]\tvalidation-rmse:6.46265\n",
      "[136]\tvalidation-rmse:6.46252\n",
      "[137]\tvalidation-rmse:6.46240\n",
      "[138]\tvalidation-rmse:6.46221\n",
      "[139]\tvalidation-rmse:6.46192\n",
      "[140]\tvalidation-rmse:6.46133\n",
      "[141]\tvalidation-rmse:6.46141\n",
      "[142]\tvalidation-rmse:6.46129\n",
      "[143]\tvalidation-rmse:6.46111\n",
      "[144]\tvalidation-rmse:6.46133\n",
      "[145]\tvalidation-rmse:6.46109\n",
      "[146]\tvalidation-rmse:6.46094\n",
      "[147]\tvalidation-rmse:6.46088\n",
      "[148]\tvalidation-rmse:6.46018\n",
      "[149]\tvalidation-rmse:6.45922\n",
      "[150]\tvalidation-rmse:6.45872\n",
      "[151]\tvalidation-rmse:6.45860\n",
      "[152]\tvalidation-rmse:6.45852\n",
      "[153]\tvalidation-rmse:6.45836\n",
      "[154]\tvalidation-rmse:6.45971\n",
      "[155]\tvalidation-rmse:6.45980\n",
      "[156]\tvalidation-rmse:6.45976\n",
      "[157]\tvalidation-rmse:6.45929\n",
      "[158]\tvalidation-rmse:6.45907\n",
      "[159]\tvalidation-rmse:6.45908\n",
      "[160]\tvalidation-rmse:6.45868\n",
      "[161]\tvalidation-rmse:6.45844\n",
      "[162]\tvalidation-rmse:6.45873\n",
      "[163]\tvalidation-rmse:6.45828\n",
      "[164]\tvalidation-rmse:6.45806\n",
      "[165]\tvalidation-rmse:6.45792\n",
      "[166]\tvalidation-rmse:6.45806\n",
      "[167]\tvalidation-rmse:6.45649\n",
      "[168]\tvalidation-rmse:6.45696\n",
      "[169]\tvalidation-rmse:6.45694\n",
      "[170]\tvalidation-rmse:6.45705\n",
      "[171]\tvalidation-rmse:6.45564\n",
      "[172]\tvalidation-rmse:6.45523\n",
      "[173]\tvalidation-rmse:6.45546\n",
      "[174]\tvalidation-rmse:6.45541\n",
      "[175]\tvalidation-rmse:6.45580\n",
      "[176]\tvalidation-rmse:6.45572\n",
      "[177]\tvalidation-rmse:6.45499\n",
      "[178]\tvalidation-rmse:6.45482\n",
      "[179]\tvalidation-rmse:6.45483\n",
      "[180]\tvalidation-rmse:6.45469\n",
      "[181]\tvalidation-rmse:6.45401\n",
      "[182]\tvalidation-rmse:6.45360\n",
      "[183]\tvalidation-rmse:6.45486\n",
      "[184]\tvalidation-rmse:6.45385\n",
      "[185]\tvalidation-rmse:6.45337\n",
      "[186]\tvalidation-rmse:6.45295\n",
      "[187]\tvalidation-rmse:6.45330\n",
      "[188]\tvalidation-rmse:6.45398\n",
      "[189]\tvalidation-rmse:6.45372\n",
      "[190]\tvalidation-rmse:6.45391\n",
      "[191]\tvalidation-rmse:6.45365\n",
      "[192]\tvalidation-rmse:6.45386\n",
      "[193]\tvalidation-rmse:6.45400\n",
      "[194]\tvalidation-rmse:6.45397\n",
      "[195]\tvalidation-rmse:6.45405\n",
      "[196]\tvalidation-rmse:6.45380\n",
      "[197]\tvalidation-rmse:6.45322\n",
      "[198]\tvalidation-rmse:6.45405\n",
      "[199]\tvalidation-rmse:6.45342\n"
     ]
    },
    {
     "name": "stderr",
     "output_type": "stream",
     "text": [
      "2025/08/05 19:36:41 WARNING mlflow.models.model: `artifact_path` is deprecated. Please use `name` instead.\n",
      "c:\\Users\\henri\\Desktop\\Ideias\\MLOps\\zoomcamp\\mlops-zoomcamp\\venv\\Lib\\site-packages\\mlflow\\xgboost\\__init__.py:168: UserWarning: [19:36:41] WARNING: C:\\actions-runner\\_work\\xgboost\\xgboost\\src\\c_api\\c_api.cc:1427: Saving model in the UBJSON format as default.  You can use file extension: `json`, `ubj` or `deprecated` to choose between formats.\n",
      "  xgb_model.save_model(model_data_path)\n",
      "2025/08/05 19:36:48 WARNING mlflow.models.model: Model logged without a signature and input example. Please set `input_example` parameter when logging the model to auto infer the model signature.\n",
      "Registered model 'xgboost' already exists. Creating a new version of this model...\n",
      "Created version '2' of model 'xgboost'.\n"
     ]
    }
   ],
   "source": [
    "with mlflow.start_run():\n",
    "\n",
    "    best_params = {\n",
    "        \"learning_rate\": 0.7779257409652834,\n",
    "        \"max_depth\": 10,\n",
    "        \"min_child_weight\": 5.363379742991612,\n",
    "        \"objective\": \"reg:linear\",\n",
    "        \"reg_alpha\": 0.0072572893963142125,\n",
    "        \"reg_lambda\": 0.24330664896106105,\n",
    "        \"seed\": 42\n",
    "    }\n",
    "\n",
    "    mlflow.log_params(best_params)\n",
    "    booster = xgb.train(params = best_params,\n",
    "    dtrain = train,\n",
    "    num_boost_round = 200,\n",
    "    evals = [(valid, \"validation\")],\n",
    "    early_stopping_rounds = 50)\n",
    "\n",
    "    y_pred = booster.predict(valid)\n",
    "    rmse = root_mean_squared_error(y_val, y_pred)\n",
    "\n",
    "    with open(\"models/preprocessor.b\", \"wb\") as f_out:\n",
    "        pickle.dump(dv, f_out)\n",
    "\n",
    "    mlflow.log_metric(\"rmse\", rmse)\n",
    "    mlflow.log_artifact(\"models/preprocessor.b\", artifact_path = \"preprocessor\")\n",
    "    mlflow.xgboost.log_model(booster, artifact_path =  \"models\", registered_model_name = \"xgboost\")"
   ]
  },
  {
   "cell_type": "code",
   "execution_count": 49,
   "id": "9df47981",
   "metadata": {},
   "outputs": [
    {
     "data": {
      "text/plain": [
       "array([15.280353 ,  7.278186 , 15.697888 , ..., 13.737298 ,  5.9582467,\n",
       "        8.365794 ], shape=(61921,), dtype=float32)"
      ]
     },
     "execution_count": 49,
     "metadata": {},
     "output_type": "execute_result"
    }
   ],
   "source": [
    "logged_model = \"models:/m-6d15a27ea877480e8aa23d3625c81f08\"\n",
    "loaded_model = mlflow.pyfunc.load_model(logged_model)\n",
    "loaded_model.predict(X_val)"
   ]
  },
  {
   "cell_type": "code",
   "execution_count": 53,
   "id": "482eabe2",
   "metadata": {},
   "outputs": [
    {
     "data": {
      "text/plain": [
       "array([15.280353 ,  7.278186 , 15.697888 , ..., 13.737298 ,  5.9582467,\n",
       "        8.365794 ], shape=(61921,), dtype=float32)"
      ]
     },
     "execution_count": 53,
     "metadata": {},
     "output_type": "execute_result"
    }
   ],
   "source": [
    "xgboost_model = mlflow.xgboost.load_model(logged_model)\n",
    "xgboost_model.predict(valid)"
   ]
  },
  {
   "cell_type": "code",
   "execution_count": null,
   "id": "03439429",
   "metadata": {},
   "outputs": [],
   "source": []
  }
 ],
 "metadata": {
  "kernelspec": {
   "display_name": "venv",
   "language": "python",
   "name": "python3"
  },
  "language_info": {
   "codemirror_mode": {
    "name": "ipython",
    "version": 3
   },
   "file_extension": ".py",
   "mimetype": "text/x-python",
   "name": "python",
   "nbconvert_exporter": "python",
   "pygments_lexer": "ipython3",
   "version": "3.12.2"
  }
 },
 "nbformat": 4,
 "nbformat_minor": 5
}
