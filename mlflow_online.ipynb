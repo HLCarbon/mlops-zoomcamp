{
 "cells": [
  {
   "cell_type": "code",
   "execution_count": 1,
   "id": "56baaa36",
   "metadata": {},
   "outputs": [],
   "source": [
    "import dotenv\n",
    "import os\n",
    "import mlflow\n",
    "from mlflow import MlflowClient"
   ]
  },
  {
   "cell_type": "markdown",
   "id": "1b5550e8",
   "metadata": {},
   "source": [
    "### You need AZURE_STORAGE_CONNECTION_STRING env variable for this to work"
   ]
  },
  {
   "cell_type": "code",
   "execution_count": 2,
   "id": "97cd8a0f",
   "metadata": {},
   "outputs": [],
   "source": [
    "dotenv.load_dotenv()\n",
    "TRACKING_SERVER_HOST = os.getenv(\"TRACKING_SERVER_HOST\")"
   ]
  },
  {
   "cell_type": "code",
   "execution_count": 3,
   "id": "9b0d032f",
   "metadata": {},
   "outputs": [
    {
     "data": {
      "text/plain": [
       "'http://20.94.41.87:5000/'"
      ]
     },
     "execution_count": 3,
     "metadata": {},
     "output_type": "execute_result"
    }
   ],
   "source": [
    "TRACKING_SERVER_HOST"
   ]
  },
  {
   "cell_type": "code",
   "execution_count": 4,
   "id": "88c22399",
   "metadata": {},
   "outputs": [],
   "source": [
    "mlflow.set_tracking_uri(TRACKING_SERVER_HOST)"
   ]
  },
  {
   "cell_type": "code",
   "execution_count": 5,
   "id": "5a7c63ef",
   "metadata": {},
   "outputs": [],
   "source": [
    "client = MlflowClient(TRACKING_SERVER_HOST)"
   ]
  },
  {
   "cell_type": "code",
   "execution_count": 6,
   "id": "74d6664b",
   "metadata": {},
   "outputs": [
    {
     "data": {
      "text/plain": [
       "[<Experiment: artifact_location='wasbs://mlflow@mlflowartifactsremote.blob.core.windows.net/1', creation_time=1754848110548, experiment_id='1', last_update_time=1754848110548, lifecycle_stage='active', name='my-experiment-1', tags={}>,\n",
       " <Experiment: artifact_location='wasbs://mlflow@mlflowartifactsremote.blob.core.windows.net/0', creation_time=1754844904713, experiment_id='0', last_update_time=1754844904713, lifecycle_stage='active', name='Default', tags={}>]"
      ]
     },
     "execution_count": 6,
     "metadata": {},
     "output_type": "execute_result"
    }
   ],
   "source": [
    "client.search_experiments()"
   ]
  },
  {
   "cell_type": "code",
   "execution_count": 7,
   "id": "1e8f9ff5",
   "metadata": {},
   "outputs": [
    {
     "name": "stderr",
     "output_type": "stream",
     "text": [
      "2025/08/10 20:18:21 WARNING mlflow.models.model: `artifact_path` is deprecated. Please use `name` instead.\n",
      "2025/08/10 20:18:32 WARNING mlflow.models.model: Model logged without a signature and input example. Please set `input_example` parameter when logging the model to auto infer the model signature.\n"
     ]
    },
    {
     "name": "stdout",
     "output_type": "stream",
     "text": [
      "default artifacts URI: 'wasbs://mlflow@mlflowartifactsremote.blob.core.windows.net/1/0f819e7f82224966b77cc6c3c22a5414/artifacts'\n",
      "🏃 View run loud-crow-671 at: http://20.94.41.87:5000/#/experiments/1/runs/0f819e7f82224966b77cc6c3c22a5414\n",
      "🧪 View experiment at: http://20.94.41.87:5000/#/experiments/1\n"
     ]
    }
   ],
   "source": [
    "from sklearn.linear_model import LogisticRegression\n",
    "from sklearn.datasets import load_iris\n",
    "from sklearn.metrics import accuracy_score\n",
    "\n",
    "mlflow.set_experiment(\"my-experiment-1\")\n",
    "\n",
    "with mlflow.start_run():\n",
    "\n",
    "    X, y = load_iris(return_X_y=True)\n",
    "\n",
    "    params = {\"C\": 0.1, \"random_state\": 42}\n",
    "    mlflow.log_params(params)\n",
    "\n",
    "    lr = LogisticRegression(**params).fit(X, y)\n",
    "    y_pred = lr.predict(X)\n",
    "    mlflow.log_metric(\"accuracy\", accuracy_score(y, y_pred))\n",
    "\n",
    "    mlflow.sklearn.log_model(lr, artifact_path=\"models\")\n",
    "    print(f\"default artifacts URI: '{mlflow.get_artifact_uri()}'\")"
   ]
  },
  {
   "cell_type": "code",
   "execution_count": 8,
   "id": "c26dd937",
   "metadata": {},
   "outputs": [
    {
     "data": {
      "text/plain": [
       "[<Experiment: artifact_location='wasbs://mlflow@mlflowartifactsremote.blob.core.windows.net/1', creation_time=1754848110548, experiment_id='1', last_update_time=1754848110548, lifecycle_stage='active', name='my-experiment-1', tags={}>,\n",
       " <Experiment: artifact_location='wasbs://mlflow@mlflowartifactsremote.blob.core.windows.net/0', creation_time=1754844904713, experiment_id='0', last_update_time=1754844904713, lifecycle_stage='active', name='Default', tags={}>]"
      ]
     },
     "execution_count": 8,
     "metadata": {},
     "output_type": "execute_result"
    }
   ],
   "source": [
    "mlflow.search_experiments()"
   ]
  },
  {
   "cell_type": "code",
   "execution_count": 11,
   "id": "88ae7ce0",
   "metadata": {},
   "outputs": [
    {
     "data": {
      "text/html": [
       "<div>\n",
       "<style scoped>\n",
       "    .dataframe tbody tr th:only-of-type {\n",
       "        vertical-align: middle;\n",
       "    }\n",
       "\n",
       "    .dataframe tbody tr th {\n",
       "        vertical-align: top;\n",
       "    }\n",
       "\n",
       "    .dataframe thead th {\n",
       "        text-align: right;\n",
       "    }\n",
       "</style>\n",
       "<table border=\"1\" class=\"dataframe\">\n",
       "  <thead>\n",
       "    <tr style=\"text-align: right;\">\n",
       "      <th></th>\n",
       "      <th>artifact_location</th>\n",
       "      <th>creation_timestamp</th>\n",
       "      <th>experiment_id</th>\n",
       "      <th>last_updated_timestamp</th>\n",
       "      <th>metrics</th>\n",
       "      <th>model_id</th>\n",
       "      <th>model_type</th>\n",
       "      <th>name</th>\n",
       "      <th>params</th>\n",
       "      <th>source_run_id</th>\n",
       "      <th>status</th>\n",
       "      <th>status_message</th>\n",
       "      <th>tags</th>\n",
       "    </tr>\n",
       "  </thead>\n",
       "  <tbody>\n",
       "    <tr>\n",
       "      <th>0</th>\n",
       "      <td>wasbs://mlflow@mlflowartifactsremote.blob.core...</td>\n",
       "      <td>1754853501755</td>\n",
       "      <td>1</td>\n",
       "      <td>1754853517885</td>\n",
       "      <td>[&lt;Metric: dataset_digest=None, dataset_name=No...</td>\n",
       "      <td>m-a79011e86f51404e88c25a922461282c</td>\n",
       "      <td></td>\n",
       "      <td>models</td>\n",
       "      <td>{'C': '0.1', 'random_state': '42'}</td>\n",
       "      <td>0f819e7f82224966b77cc6c3c22a5414</td>\n",
       "      <td>READY</td>\n",
       "      <td></td>\n",
       "      <td>{'mlflow.source.name': 'c:\\Users\\henri\\Desktop...</td>\n",
       "    </tr>\n",
       "    <tr>\n",
       "      <th>1</th>\n",
       "      <td>wasbs://mlflow@mlflowartifactsremote.blob.core...</td>\n",
       "      <td>1754853123799</td>\n",
       "      <td>1</td>\n",
       "      <td>1754853123799</td>\n",
       "      <td>[&lt;Metric: dataset_digest=None, dataset_name=No...</td>\n",
       "      <td>m-d3c0f830e01745fab232d5444b3351af</td>\n",
       "      <td></td>\n",
       "      <td>models</td>\n",
       "      <td>{'C': '0.1', 'random_state': '42'}</td>\n",
       "      <td>90ab8925528e4f78b2cc54328b7a205a</td>\n",
       "      <td>PENDING</td>\n",
       "      <td></td>\n",
       "      <td>{'mlflow.source.name': 'c:\\Users\\henri\\Desktop...</td>\n",
       "    </tr>\n",
       "    <tr>\n",
       "      <th>2</th>\n",
       "      <td>wasbs://mlflow@mlflowartifactsremote.blob.core...</td>\n",
       "      <td>1754852375521</td>\n",
       "      <td>1</td>\n",
       "      <td>1754852430621</td>\n",
       "      <td>[&lt;Metric: dataset_digest=None, dataset_name=No...</td>\n",
       "      <td>m-f632650554904be3ba313cb75a3b507c</td>\n",
       "      <td></td>\n",
       "      <td>models</td>\n",
       "      <td>{'C': '0.1', 'random_state': '42'}</td>\n",
       "      <td>f06d9850f1b947459cc5f1095df203bb</td>\n",
       "      <td>FAILED</td>\n",
       "      <td></td>\n",
       "      <td>{'mlflow.source.name': 'c:\\Users\\henri\\Desktop...</td>\n",
       "    </tr>\n",
       "    <tr>\n",
       "      <th>3</th>\n",
       "      <td>wasbs://mlflow@mlflowartifactsremote.blob.core...</td>\n",
       "      <td>1754849574935</td>\n",
       "      <td>1</td>\n",
       "      <td>1754849679753</td>\n",
       "      <td>[&lt;Metric: dataset_digest=None, dataset_name=No...</td>\n",
       "      <td>m-eaf7a8a4196142a594f0f929e94ff540</td>\n",
       "      <td></td>\n",
       "      <td>models</td>\n",
       "      <td>{'C': '0.1', 'random_state': '42'}</td>\n",
       "      <td>b4b1e1cf086c44f7bd44a6d58ef22eff</td>\n",
       "      <td>FAILED</td>\n",
       "      <td></td>\n",
       "      <td>{'mlflow.source.name': 'c:\\Users\\henri\\Desktop...</td>\n",
       "    </tr>\n",
       "    <tr>\n",
       "      <th>4</th>\n",
       "      <td>wasbs://mlflow@mlflowartifactsremote.blob.core...</td>\n",
       "      <td>1754848467047</td>\n",
       "      <td>1</td>\n",
       "      <td>1754848532994</td>\n",
       "      <td>[&lt;Metric: dataset_digest=None, dataset_name=No...</td>\n",
       "      <td>m-7cfa49ac9e934e00ba4e9192df55ead0</td>\n",
       "      <td></td>\n",
       "      <td>models</td>\n",
       "      <td>{'C': '0.1', 'random_state': '42'}</td>\n",
       "      <td>6eddf4af5f354535845f1092c6a7feb3</td>\n",
       "      <td>FAILED</td>\n",
       "      <td></td>\n",
       "      <td>{'mlflow.source.name': 'c:\\Users\\henri\\Desktop...</td>\n",
       "    </tr>\n",
       "    <tr>\n",
       "      <th>5</th>\n",
       "      <td>wasbs://mlflow@mlflowartifactsremote.blob.core...</td>\n",
       "      <td>1754848162483</td>\n",
       "      <td>1</td>\n",
       "      <td>1754848240300</td>\n",
       "      <td>[&lt;Metric: dataset_digest=None, dataset_name=No...</td>\n",
       "      <td>m-7c13079afcfc4f218c3709a06db73174</td>\n",
       "      <td></td>\n",
       "      <td>models</td>\n",
       "      <td>{'C': '0.1', 'random_state': '42'}</td>\n",
       "      <td>93bfc3514fb34787bc317650e476ae00</td>\n",
       "      <td>FAILED</td>\n",
       "      <td></td>\n",
       "      <td>{'mlflow.source.name': 'c:\\Users\\henri\\Desktop...</td>\n",
       "    </tr>\n",
       "  </tbody>\n",
       "</table>\n",
       "</div>"
      ],
      "text/plain": [
       "                                   artifact_location  creation_timestamp  \\\n",
       "0  wasbs://mlflow@mlflowartifactsremote.blob.core...       1754853501755   \n",
       "1  wasbs://mlflow@mlflowartifactsremote.blob.core...       1754853123799   \n",
       "2  wasbs://mlflow@mlflowartifactsremote.blob.core...       1754852375521   \n",
       "3  wasbs://mlflow@mlflowartifactsremote.blob.core...       1754849574935   \n",
       "4  wasbs://mlflow@mlflowartifactsremote.blob.core...       1754848467047   \n",
       "5  wasbs://mlflow@mlflowartifactsremote.blob.core...       1754848162483   \n",
       "\n",
       "  experiment_id  last_updated_timestamp  \\\n",
       "0             1           1754853517885   \n",
       "1             1           1754853123799   \n",
       "2             1           1754852430621   \n",
       "3             1           1754849679753   \n",
       "4             1           1754848532994   \n",
       "5             1           1754848240300   \n",
       "\n",
       "                                             metrics  \\\n",
       "0  [<Metric: dataset_digest=None, dataset_name=No...   \n",
       "1  [<Metric: dataset_digest=None, dataset_name=No...   \n",
       "2  [<Metric: dataset_digest=None, dataset_name=No...   \n",
       "3  [<Metric: dataset_digest=None, dataset_name=No...   \n",
       "4  [<Metric: dataset_digest=None, dataset_name=No...   \n",
       "5  [<Metric: dataset_digest=None, dataset_name=No...   \n",
       "\n",
       "                             model_id model_type    name  \\\n",
       "0  m-a79011e86f51404e88c25a922461282c             models   \n",
       "1  m-d3c0f830e01745fab232d5444b3351af             models   \n",
       "2  m-f632650554904be3ba313cb75a3b507c             models   \n",
       "3  m-eaf7a8a4196142a594f0f929e94ff540             models   \n",
       "4  m-7cfa49ac9e934e00ba4e9192df55ead0             models   \n",
       "5  m-7c13079afcfc4f218c3709a06db73174             models   \n",
       "\n",
       "                               params                     source_run_id  \\\n",
       "0  {'C': '0.1', 'random_state': '42'}  0f819e7f82224966b77cc6c3c22a5414   \n",
       "1  {'C': '0.1', 'random_state': '42'}  90ab8925528e4f78b2cc54328b7a205a   \n",
       "2  {'C': '0.1', 'random_state': '42'}  f06d9850f1b947459cc5f1095df203bb   \n",
       "3  {'C': '0.1', 'random_state': '42'}  b4b1e1cf086c44f7bd44a6d58ef22eff   \n",
       "4  {'C': '0.1', 'random_state': '42'}  6eddf4af5f354535845f1092c6a7feb3   \n",
       "5  {'C': '0.1', 'random_state': '42'}  93bfc3514fb34787bc317650e476ae00   \n",
       "\n",
       "    status status_message                                               tags  \n",
       "0    READY                 {'mlflow.source.name': 'c:\\Users\\henri\\Desktop...  \n",
       "1  PENDING                 {'mlflow.source.name': 'c:\\Users\\henri\\Desktop...  \n",
       "2   FAILED                 {'mlflow.source.name': 'c:\\Users\\henri\\Desktop...  \n",
       "3   FAILED                 {'mlflow.source.name': 'c:\\Users\\henri\\Desktop...  \n",
       "4   FAILED                 {'mlflow.source.name': 'c:\\Users\\henri\\Desktop...  \n",
       "5   FAILED                 {'mlflow.source.name': 'c:\\Users\\henri\\Desktop...  "
      ]
     },
     "execution_count": 11,
     "metadata": {},
     "output_type": "execute_result"
    }
   ],
   "source": [
    "models = mlflow.search_logged_models(['1'])"
   ]
  },
  {
   "cell_type": "code",
   "execution_count": 9,
   "id": "2b03dee3",
   "metadata": {},
   "outputs": [
    {
     "data": {
      "text/plain": [
       "[]"
      ]
     },
     "execution_count": 9,
     "metadata": {},
     "output_type": "execute_result"
    }
   ],
   "source": [
    "client.search_registered_models()"
   ]
  },
  {
   "cell_type": "code",
   "execution_count": 16,
   "id": "8ae62838",
   "metadata": {},
   "outputs": [],
   "source": [
    "runs = mlflow.search_runs(experiment_ids = ['1'])"
   ]
  },
  {
   "cell_type": "code",
   "execution_count": 26,
   "id": "f6379d4c",
   "metadata": {},
   "outputs": [
    {
     "data": {
      "text/html": [
       "<div>\n",
       "<style scoped>\n",
       "    .dataframe tbody tr th:only-of-type {\n",
       "        vertical-align: middle;\n",
       "    }\n",
       "\n",
       "    .dataframe tbody tr th {\n",
       "        vertical-align: top;\n",
       "    }\n",
       "\n",
       "    .dataframe thead th {\n",
       "        text-align: right;\n",
       "    }\n",
       "</style>\n",
       "<table border=\"1\" class=\"dataframe\">\n",
       "  <thead>\n",
       "    <tr style=\"text-align: right;\">\n",
       "      <th></th>\n",
       "      <th>run_id</th>\n",
       "      <th>experiment_id</th>\n",
       "      <th>status</th>\n",
       "      <th>artifact_uri</th>\n",
       "      <th>start_time</th>\n",
       "      <th>end_time</th>\n",
       "      <th>metrics.accuracy</th>\n",
       "      <th>params.C</th>\n",
       "      <th>params.random_state</th>\n",
       "      <th>tags.mlflow.runName</th>\n",
       "      <th>tags.mlflow.source.type</th>\n",
       "      <th>tags.mlflow.source.name</th>\n",
       "      <th>tags.mlflow.user</th>\n",
       "    </tr>\n",
       "  </thead>\n",
       "  <tbody>\n",
       "    <tr>\n",
       "      <th>0</th>\n",
       "      <td>0f819e7f82224966b77cc6c3c22a5414</td>\n",
       "      <td>1</td>\n",
       "      <td>FINISHED</td>\n",
       "      <td>wasbs://mlflow@mlflowartifactsremote.blob.core...</td>\n",
       "      <td>2025-08-10 19:16:43.873000+00:00</td>\n",
       "      <td>2025-08-10 19:19:46.566000+00:00</td>\n",
       "      <td>0.96</td>\n",
       "      <td>0.1</td>\n",
       "      <td>42</td>\n",
       "      <td>loud-crow-671</td>\n",
       "      <td>LOCAL</td>\n",
       "      <td>c:\\Users\\henri\\Desktop\\Ideias\\MLOps\\zoomcamp\\m...</td>\n",
       "      <td>henri</td>\n",
       "    </tr>\n",
       "    <tr>\n",
       "      <th>1</th>\n",
       "      <td>90ab8925528e4f78b2cc54328b7a205a</td>\n",
       "      <td>1</td>\n",
       "      <td>RUNNING</td>\n",
       "      <td>wasbs://mlflow@mlflowartifactsremote.blob.core...</td>\n",
       "      <td>2025-08-10 19:11:19.121000+00:00</td>\n",
       "      <td>NaT</td>\n",
       "      <td>0.96</td>\n",
       "      <td>0.1</td>\n",
       "      <td>42</td>\n",
       "      <td>brawny-lynx-297</td>\n",
       "      <td>LOCAL</td>\n",
       "      <td>c:\\Users\\henri\\Desktop\\Ideias\\MLOps\\zoomcamp\\m...</td>\n",
       "      <td>henri</td>\n",
       "    </tr>\n",
       "    <tr>\n",
       "      <th>2</th>\n",
       "      <td>f06d9850f1b947459cc5f1095df203bb</td>\n",
       "      <td>1</td>\n",
       "      <td>FAILED</td>\n",
       "      <td>wasbs://mlflow@mlflowartifactsremote.blob.core...</td>\n",
       "      <td>2025-08-10 18:58:47.471000+00:00</td>\n",
       "      <td>2025-08-10 19:00:31.354000+00:00</td>\n",
       "      <td>0.96</td>\n",
       "      <td>0.1</td>\n",
       "      <td>42</td>\n",
       "      <td>calm-wasp-122</td>\n",
       "      <td>LOCAL</td>\n",
       "      <td>c:\\Users\\henri\\Desktop\\Ideias\\MLOps\\zoomcamp\\m...</td>\n",
       "      <td>henri</td>\n",
       "    </tr>\n",
       "    <tr>\n",
       "      <th>3</th>\n",
       "      <td>b4b1e1cf086c44f7bd44a6d58ef22eff</td>\n",
       "      <td>1</td>\n",
       "      <td>FAILED</td>\n",
       "      <td>wasbs://mlflow@mlflowartifactsremote.blob.core...</td>\n",
       "      <td>2025-08-10 18:11:05.602000+00:00</td>\n",
       "      <td>2025-08-10 18:14:45.565000+00:00</td>\n",
       "      <td>0.96</td>\n",
       "      <td>0.1</td>\n",
       "      <td>42</td>\n",
       "      <td>luminous-doe-661</td>\n",
       "      <td>LOCAL</td>\n",
       "      <td>c:\\Users\\henri\\Desktop\\Ideias\\MLOps\\zoomcamp\\m...</td>\n",
       "      <td>henri</td>\n",
       "    </tr>\n",
       "    <tr>\n",
       "      <th>4</th>\n",
       "      <td>6eddf4af5f354535845f1092c6a7feb3</td>\n",
       "      <td>1</td>\n",
       "      <td>FAILED</td>\n",
       "      <td>wasbs://mlflow@mlflowartifactsremote.blob.core...</td>\n",
       "      <td>2025-08-10 17:53:50.971000+00:00</td>\n",
       "      <td>2025-08-10 17:55:33.189000+00:00</td>\n",
       "      <td>0.96</td>\n",
       "      <td>0.1</td>\n",
       "      <td>42</td>\n",
       "      <td>learned-carp-5</td>\n",
       "      <td>LOCAL</td>\n",
       "      <td>c:\\Users\\henri\\Desktop\\Ideias\\MLOps\\zoomcamp\\m...</td>\n",
       "      <td>henri</td>\n",
       "    </tr>\n",
       "    <tr>\n",
       "      <th>5</th>\n",
       "      <td>93bfc3514fb34787bc317650e476ae00</td>\n",
       "      <td>1</td>\n",
       "      <td>FAILED</td>\n",
       "      <td>wasbs://mlflow@mlflowartifactsremote.blob.core...</td>\n",
       "      <td>2025-08-10 17:48:44.127000+00:00</td>\n",
       "      <td>2025-08-10 17:50:40.550000+00:00</td>\n",
       "      <td>0.96</td>\n",
       "      <td>0.1</td>\n",
       "      <td>42</td>\n",
       "      <td>redolent-fly-467</td>\n",
       "      <td>LOCAL</td>\n",
       "      <td>c:\\Users\\henri\\Desktop\\Ideias\\MLOps\\zoomcamp\\m...</td>\n",
       "      <td>henri</td>\n",
       "    </tr>\n",
       "    <tr>\n",
       "      <th>6</th>\n",
       "      <td>daaf5aa742ad4e4ba31b10a8b233426d</td>\n",
       "      <td>1</td>\n",
       "      <td>RUNNING</td>\n",
       "      <td>wasbs://mlflow@mlflowartifactsremote.blob.core...</td>\n",
       "      <td>2025-08-10 17:48:44.127000+00:00</td>\n",
       "      <td>NaT</td>\n",
       "      <td>NaN</td>\n",
       "      <td>None</td>\n",
       "      <td>None</td>\n",
       "      <td>brawny-trout-793</td>\n",
       "      <td>LOCAL</td>\n",
       "      <td>c:\\Users\\henri\\Desktop\\Ideias\\MLOps\\zoomcamp\\m...</td>\n",
       "      <td>henri</td>\n",
       "    </tr>\n",
       "  </tbody>\n",
       "</table>\n",
       "</div>"
      ],
      "text/plain": [
       "                             run_id experiment_id    status  \\\n",
       "0  0f819e7f82224966b77cc6c3c22a5414             1  FINISHED   \n",
       "1  90ab8925528e4f78b2cc54328b7a205a             1   RUNNING   \n",
       "2  f06d9850f1b947459cc5f1095df203bb             1    FAILED   \n",
       "3  b4b1e1cf086c44f7bd44a6d58ef22eff             1    FAILED   \n",
       "4  6eddf4af5f354535845f1092c6a7feb3             1    FAILED   \n",
       "5  93bfc3514fb34787bc317650e476ae00             1    FAILED   \n",
       "6  daaf5aa742ad4e4ba31b10a8b233426d             1   RUNNING   \n",
       "\n",
       "                                        artifact_uri  \\\n",
       "0  wasbs://mlflow@mlflowartifactsremote.blob.core...   \n",
       "1  wasbs://mlflow@mlflowartifactsremote.blob.core...   \n",
       "2  wasbs://mlflow@mlflowartifactsremote.blob.core...   \n",
       "3  wasbs://mlflow@mlflowartifactsremote.blob.core...   \n",
       "4  wasbs://mlflow@mlflowartifactsremote.blob.core...   \n",
       "5  wasbs://mlflow@mlflowartifactsremote.blob.core...   \n",
       "6  wasbs://mlflow@mlflowartifactsremote.blob.core...   \n",
       "\n",
       "                        start_time                         end_time  \\\n",
       "0 2025-08-10 19:16:43.873000+00:00 2025-08-10 19:19:46.566000+00:00   \n",
       "1 2025-08-10 19:11:19.121000+00:00                              NaT   \n",
       "2 2025-08-10 18:58:47.471000+00:00 2025-08-10 19:00:31.354000+00:00   \n",
       "3 2025-08-10 18:11:05.602000+00:00 2025-08-10 18:14:45.565000+00:00   \n",
       "4 2025-08-10 17:53:50.971000+00:00 2025-08-10 17:55:33.189000+00:00   \n",
       "5 2025-08-10 17:48:44.127000+00:00 2025-08-10 17:50:40.550000+00:00   \n",
       "6 2025-08-10 17:48:44.127000+00:00                              NaT   \n",
       "\n",
       "   metrics.accuracy params.C params.random_state tags.mlflow.runName  \\\n",
       "0              0.96      0.1                  42       loud-crow-671   \n",
       "1              0.96      0.1                  42     brawny-lynx-297   \n",
       "2              0.96      0.1                  42       calm-wasp-122   \n",
       "3              0.96      0.1                  42    luminous-doe-661   \n",
       "4              0.96      0.1                  42      learned-carp-5   \n",
       "5              0.96      0.1                  42    redolent-fly-467   \n",
       "6               NaN     None                None    brawny-trout-793   \n",
       "\n",
       "  tags.mlflow.source.type                            tags.mlflow.source.name  \\\n",
       "0                   LOCAL  c:\\Users\\henri\\Desktop\\Ideias\\MLOps\\zoomcamp\\m...   \n",
       "1                   LOCAL  c:\\Users\\henri\\Desktop\\Ideias\\MLOps\\zoomcamp\\m...   \n",
       "2                   LOCAL  c:\\Users\\henri\\Desktop\\Ideias\\MLOps\\zoomcamp\\m...   \n",
       "3                   LOCAL  c:\\Users\\henri\\Desktop\\Ideias\\MLOps\\zoomcamp\\m...   \n",
       "4                   LOCAL  c:\\Users\\henri\\Desktop\\Ideias\\MLOps\\zoomcamp\\m...   \n",
       "5                   LOCAL  c:\\Users\\henri\\Desktop\\Ideias\\MLOps\\zoomcamp\\m...   \n",
       "6                   LOCAL  c:\\Users\\henri\\Desktop\\Ideias\\MLOps\\zoomcamp\\m...   \n",
       "\n",
       "  tags.mlflow.user  \n",
       "0            henri  \n",
       "1            henri  \n",
       "2            henri  \n",
       "3            henri  \n",
       "4            henri  \n",
       "5            henri  \n",
       "6            henri  "
      ]
     },
     "execution_count": 26,
     "metadata": {},
     "output_type": "execute_result"
    }
   ],
   "source": [
    "runs"
   ]
  },
  {
   "cell_type": "code",
   "execution_count": null,
   "id": "f5385179",
   "metadata": {},
   "outputs": [
    {
     "name": "stderr",
     "output_type": "stream",
     "text": [
      "Successfully registered model 'iris-classifier'.\n"
     ]
    },
    {
     "ename": "RestException",
     "evalue": "INVALID_PARAMETER_VALUE: Invalid model version source: '0f819e7f82224966b77cc6c3c22a5414'. To use a local path as a model version source, the run_id request parameter has to be specified and the local path has to be contained within the artifact directory of the run specified by the run_id.",
     "output_type": "error",
     "traceback": [
      "\u001b[31m---------------------------------------------------------------------------\u001b[39m",
      "\u001b[31mRestException\u001b[39m                             Traceback (most recent call last)",
      "\u001b[36mCell\u001b[39m\u001b[36m \u001b[39m\u001b[32mIn[23]\u001b[39m\u001b[32m, line 2\u001b[39m\n\u001b[32m      1\u001b[39m model_run = mlflow.search_runs(experiment_ids = [\u001b[33m'\u001b[39m\u001b[33m1\u001b[39m\u001b[33m'\u001b[39m]).loc[\u001b[32m0\u001b[39m].run_id\n\u001b[32m----> \u001b[39m\u001b[32m2\u001b[39m \u001b[43mmlflow\u001b[49m\u001b[43m.\u001b[49m\u001b[43mregister_model\u001b[49m\u001b[43m(\u001b[49m\u001b[43mmodel_uri\u001b[49m\u001b[43m=\u001b[49m\u001b[43mmodel_run\u001b[49m\u001b[43m,\u001b[49m\u001b[43m \u001b[49m\u001b[43mname\u001b[49m\u001b[43m=\u001b[49m\u001b[33;43m'\u001b[39;49m\u001b[33;43miris-classifier\u001b[39;49m\u001b[33;43m'\u001b[39;49m\u001b[43m)\u001b[49m\n",
      "\u001b[36mFile \u001b[39m\u001b[32mc:\\Users\\henri\\Desktop\\Ideias\\MLOps\\zoomcamp\\mlops-zoomcamp\\venv\\Lib\\site-packages\\mlflow\\tracking\\_model_registry\\fluent.py:127\u001b[39m, in \u001b[36mregister_model\u001b[39m\u001b[34m(model_uri, name, await_registration_for, tags, env_pack)\u001b[39m\n\u001b[32m     59\u001b[39m \u001b[38;5;28;01mdef\u001b[39;00m\u001b[38;5;250m \u001b[39m\u001b[34mregister_model\u001b[39m(\n\u001b[32m     60\u001b[39m     model_uri,\n\u001b[32m     61\u001b[39m     name,\n\u001b[32m   (...)\u001b[39m\u001b[32m     65\u001b[39m     env_pack: Optional[EnvPackType] = \u001b[38;5;28;01mNone\u001b[39;00m,\n\u001b[32m     66\u001b[39m ) -> ModelVersion:\n\u001b[32m     67\u001b[39m \u001b[38;5;250m    \u001b[39m\u001b[33;03m\"\"\"Create a new model version in model registry for the model files specified by ``model_uri``.\u001b[39;00m\n\u001b[32m     68\u001b[39m \n\u001b[32m     69\u001b[39m \u001b[33;03m    Note that this method assumes the model registry backend URI is the same as that of the\u001b[39;00m\n\u001b[32m   (...)\u001b[39m\u001b[32m    125\u001b[39m \u001b[33;03m        Version: 1\u001b[39;00m\n\u001b[32m    126\u001b[39m \u001b[33;03m    \"\"\"\u001b[39;00m\n\u001b[32m--> \u001b[39m\u001b[32m127\u001b[39m     \u001b[38;5;28;01mreturn\u001b[39;00m \u001b[43m_register_model\u001b[49m\u001b[43m(\u001b[49m\n\u001b[32m    128\u001b[39m \u001b[43m        \u001b[49m\u001b[43mmodel_uri\u001b[49m\u001b[43m=\u001b[49m\u001b[43mmodel_uri\u001b[49m\u001b[43m,\u001b[49m\n\u001b[32m    129\u001b[39m \u001b[43m        \u001b[49m\u001b[43mname\u001b[49m\u001b[43m=\u001b[49m\u001b[43mname\u001b[49m\u001b[43m,\u001b[49m\n\u001b[32m    130\u001b[39m \u001b[43m        \u001b[49m\u001b[43mawait_registration_for\u001b[49m\u001b[43m=\u001b[49m\u001b[43mawait_registration_for\u001b[49m\u001b[43m,\u001b[49m\n\u001b[32m    131\u001b[39m \u001b[43m        \u001b[49m\u001b[43mtags\u001b[49m\u001b[43m=\u001b[49m\u001b[43mtags\u001b[49m\u001b[43m,\u001b[49m\n\u001b[32m    132\u001b[39m \u001b[43m        \u001b[49m\u001b[43menv_pack\u001b[49m\u001b[43m=\u001b[49m\u001b[43menv_pack\u001b[49m\u001b[43m,\u001b[49m\n\u001b[32m    133\u001b[39m \u001b[43m    \u001b[49m\u001b[43m)\u001b[49m\n",
      "\u001b[36mFile \u001b[39m\u001b[32mc:\\Users\\henri\\Desktop\\Ideias\\MLOps\\zoomcamp\\mlops-zoomcamp\\venv\\Lib\\site-packages\\mlflow\\tracking\\_model_registry\\fluent.py:211\u001b[39m, in \u001b[36m_register_model\u001b[39m\u001b[34m(model_uri, name, await_registration_for, tags, local_model_path, env_pack)\u001b[39m\n\u001b[32m    205\u001b[39m     \u001b[38;5;28;01mwith\u001b[39;00m pack_env_for_databricks_model_serving(\n\u001b[32m    206\u001b[39m         model_uri,\n\u001b[32m    207\u001b[39m         enforce_pip_requirements=\u001b[38;5;28;01mTrue\u001b[39;00m,\n\u001b[32m    208\u001b[39m     ) \u001b[38;5;28;01mas\u001b[39;00m artifacts_path_with_env:\n\u001b[32m    209\u001b[39m         client.log_model_artifacts(model_id, artifacts_path_with_env)\n\u001b[32m--> \u001b[39m\u001b[32m211\u001b[39m create_version_response = \u001b[43mclient\u001b[49m\u001b[43m.\u001b[49m\u001b[43m_create_model_version\u001b[49m\u001b[43m(\u001b[49m\n\u001b[32m    212\u001b[39m \u001b[43m    \u001b[49m\u001b[43mname\u001b[49m\u001b[43m=\u001b[49m\u001b[43mname\u001b[49m\u001b[43m,\u001b[49m\n\u001b[32m    213\u001b[39m \u001b[43m    \u001b[49m\u001b[43msource\u001b[49m\u001b[43m=\u001b[49m\u001b[43msource\u001b[49m\u001b[43m,\u001b[49m\n\u001b[32m    214\u001b[39m \u001b[43m    \u001b[49m\u001b[43mrun_id\u001b[49m\u001b[43m=\u001b[49m\u001b[43mrun_id\u001b[49m\u001b[43m,\u001b[49m\n\u001b[32m    215\u001b[39m \u001b[43m    \u001b[49m\u001b[43mtags\u001b[49m\u001b[43m=\u001b[49m\u001b[43mtags\u001b[49m\u001b[43m,\u001b[49m\n\u001b[32m    216\u001b[39m \u001b[43m    \u001b[49m\u001b[43mawait_creation_for\u001b[49m\u001b[43m=\u001b[49m\u001b[43mawait_registration_for\u001b[49m\u001b[43m,\u001b[49m\n\u001b[32m    217\u001b[39m \u001b[43m    \u001b[49m\u001b[43mlocal_model_path\u001b[49m\u001b[43m=\u001b[49m\u001b[43mlocal_model_path\u001b[49m\u001b[43m,\u001b[49m\n\u001b[32m    218\u001b[39m \u001b[43m    \u001b[49m\u001b[43mmodel_id\u001b[49m\u001b[43m=\u001b[49m\u001b[43mmodel_id\u001b[49m\u001b[43m,\u001b[49m\n\u001b[32m    219\u001b[39m \u001b[43m\u001b[49m\u001b[43m)\u001b[49m\n\u001b[32m    220\u001b[39m created_message = (\n\u001b[32m    221\u001b[39m     \u001b[33mf\u001b[39m\u001b[33m\"\u001b[39m\u001b[33mCreated version \u001b[39m\u001b[33m'\u001b[39m\u001b[38;5;132;01m{\u001b[39;00mcreate_version_response.version\u001b[38;5;132;01m}\u001b[39;00m\u001b[33m'\u001b[39m\u001b[33m of model \u001b[39m\u001b[33m\"\u001b[39m\n\u001b[32m    222\u001b[39m     \u001b[33mf\u001b[39m\u001b[33m\"\u001b[39m\u001b[33m'\u001b[39m\u001b[38;5;132;01m{\u001b[39;00mcreate_version_response.name\u001b[38;5;132;01m}\u001b[39;00m\u001b[33m'\u001b[39m\u001b[33m\"\u001b[39m\n\u001b[32m    223\u001b[39m )\n\u001b[32m    224\u001b[39m \u001b[38;5;66;03m# Print a link to the UC model version page if the model is in UC.\u001b[39;00m\n",
      "\u001b[36mFile \u001b[39m\u001b[32mc:\\Users\\henri\\Desktop\\Ideias\\MLOps\\zoomcamp\\mlops-zoomcamp\\venv\\Lib\\site-packages\\mlflow\\tracking\\client.py:4187\u001b[39m, in \u001b[36mMlflowClient._create_model_version\u001b[39m\u001b[34m(self, name, source, run_id, tags, run_link, description, await_creation_for, local_model_path, model_id)\u001b[39m\n\u001b[32m   4184\u001b[39m         \u001b[38;5;66;03m# models:/<model_id> source is not supported by WSMR\u001b[39;00m\n\u001b[32m   4185\u001b[39m         new_source = logged_model.artifact_location\n\u001b[32m-> \u001b[39m\u001b[32m4187\u001b[39m \u001b[38;5;28;01mreturn\u001b[39;00m \u001b[38;5;28;43mself\u001b[39;49m\u001b[43m.\u001b[49m\u001b[43m_get_registry_client\u001b[49m\u001b[43m(\u001b[49m\u001b[43m)\u001b[49m\u001b[43m.\u001b[49m\u001b[43mcreate_model_version\u001b[49m\u001b[43m(\u001b[49m\n\u001b[32m   4188\u001b[39m \u001b[43m    \u001b[49m\u001b[43mname\u001b[49m\u001b[43m=\u001b[49m\u001b[43mname\u001b[49m\u001b[43m,\u001b[49m\n\u001b[32m   4189\u001b[39m \u001b[43m    \u001b[49m\u001b[43msource\u001b[49m\u001b[43m=\u001b[49m\u001b[43mnew_source\u001b[49m\u001b[43m,\u001b[49m\n\u001b[32m   4190\u001b[39m \u001b[43m    \u001b[49m\u001b[43mrun_id\u001b[49m\u001b[43m=\u001b[49m\u001b[43mrun_id\u001b[49m\u001b[43m,\u001b[49m\n\u001b[32m   4191\u001b[39m \u001b[43m    \u001b[49m\u001b[43mtags\u001b[49m\u001b[43m=\u001b[49m\u001b[43mtags\u001b[49m\u001b[43m,\u001b[49m\n\u001b[32m   4192\u001b[39m \u001b[43m    \u001b[49m\u001b[43mrun_link\u001b[49m\u001b[43m=\u001b[49m\u001b[43mrun_link\u001b[49m\u001b[43m,\u001b[49m\n\u001b[32m   4193\u001b[39m \u001b[43m    \u001b[49m\u001b[43mdescription\u001b[49m\u001b[43m=\u001b[49m\u001b[43mdescription\u001b[49m\u001b[43m,\u001b[49m\n\u001b[32m   4194\u001b[39m \u001b[43m    \u001b[49m\u001b[43mawait_creation_for\u001b[49m\u001b[43m=\u001b[49m\u001b[43mawait_creation_for\u001b[49m\u001b[43m,\u001b[49m\n\u001b[32m   4195\u001b[39m \u001b[43m    \u001b[49m\u001b[43mlocal_model_path\u001b[49m\u001b[43m=\u001b[49m\u001b[43mlocal_model_path\u001b[49m\u001b[43m,\u001b[49m\n\u001b[32m   4196\u001b[39m \u001b[43m    \u001b[49m\u001b[43mmodel_id\u001b[49m\u001b[43m=\u001b[49m\u001b[43mmodel_id\u001b[49m\u001b[43m,\u001b[49m\n\u001b[32m   4197\u001b[39m \u001b[43m\u001b[49m\u001b[43m)\u001b[49m\n",
      "\u001b[36mFile \u001b[39m\u001b[32mc:\\Users\\henri\\Desktop\\Ideias\\MLOps\\zoomcamp\\mlops-zoomcamp\\venv\\Lib\\site-packages\\mlflow\\tracking\\_model_registry\\client.py:248\u001b[39m, in \u001b[36mModelRegistryClient.create_model_version\u001b[39m\u001b[34m(self, name, source, run_id, tags, run_link, description, await_creation_for, local_model_path, model_id)\u001b[39m\n\u001b[32m    246\u001b[39m arg_names = _get_arg_names(\u001b[38;5;28mself\u001b[39m.store.create_model_version)\n\u001b[32m    247\u001b[39m \u001b[38;5;28;01mif\u001b[39;00m \u001b[33m\"\u001b[39m\u001b[33mlocal_model_path\u001b[39m\u001b[33m\"\u001b[39m \u001b[38;5;129;01min\u001b[39;00m arg_names:\n\u001b[32m--> \u001b[39m\u001b[32m248\u001b[39m     mv = \u001b[38;5;28;43mself\u001b[39;49m\u001b[43m.\u001b[49m\u001b[43mstore\u001b[49m\u001b[43m.\u001b[49m\u001b[43mcreate_model_version\u001b[49m\u001b[43m(\u001b[49m\n\u001b[32m    249\u001b[39m \u001b[43m        \u001b[49m\u001b[43mname\u001b[49m\u001b[43m,\u001b[49m\n\u001b[32m    250\u001b[39m \u001b[43m        \u001b[49m\u001b[43msource\u001b[49m\u001b[43m,\u001b[49m\n\u001b[32m    251\u001b[39m \u001b[43m        \u001b[49m\u001b[43mrun_id\u001b[49m\u001b[43m,\u001b[49m\n\u001b[32m    252\u001b[39m \u001b[43m        \u001b[49m\u001b[43mtags\u001b[49m\u001b[43m,\u001b[49m\n\u001b[32m    253\u001b[39m \u001b[43m        \u001b[49m\u001b[43mrun_link\u001b[49m\u001b[43m,\u001b[49m\n\u001b[32m    254\u001b[39m \u001b[43m        \u001b[49m\u001b[43mdescription\u001b[49m\u001b[43m,\u001b[49m\n\u001b[32m    255\u001b[39m \u001b[43m        \u001b[49m\u001b[43mlocal_model_path\u001b[49m\u001b[43m=\u001b[49m\u001b[43mlocal_model_path\u001b[49m\u001b[43m,\u001b[49m\n\u001b[32m    256\u001b[39m \u001b[43m        \u001b[49m\u001b[43mmodel_id\u001b[49m\u001b[43m=\u001b[49m\u001b[43mmodel_id\u001b[49m\u001b[43m,\u001b[49m\n\u001b[32m    257\u001b[39m \u001b[43m    \u001b[49m\u001b[43m)\u001b[49m\n\u001b[32m    258\u001b[39m \u001b[38;5;28;01melse\u001b[39;00m:\n\u001b[32m    259\u001b[39m     \u001b[38;5;66;03m# Fall back to calling create_model_version without\u001b[39;00m\n\u001b[32m    260\u001b[39m     \u001b[38;5;66;03m# local_model_path since old model registry store implementations may not\u001b[39;00m\n\u001b[32m    261\u001b[39m     \u001b[38;5;66;03m# support the local_model_path argument.\u001b[39;00m\n\u001b[32m    262\u001b[39m     mv = \u001b[38;5;28mself\u001b[39m.store.create_model_version(\n\u001b[32m    263\u001b[39m         name, source, run_id, tags, run_link, description, model_id=model_id\n\u001b[32m    264\u001b[39m     )\n",
      "\u001b[36mFile \u001b[39m\u001b[32mc:\\Users\\henri\\Desktop\\Ideias\\MLOps\\zoomcamp\\mlops-zoomcamp\\venv\\Lib\\site-packages\\mlflow\\store\\model_registry\\rest_store.py:275\u001b[39m, in \u001b[36mRestStore.create_model_version\u001b[39m\u001b[34m(self, name, source, run_id, tags, run_link, description, local_model_path, model_id)\u001b[39m\n\u001b[32m    263\u001b[39m proto_tags = [tag.to_proto() \u001b[38;5;28;01mfor\u001b[39;00m tag \u001b[38;5;129;01min\u001b[39;00m tags \u001b[38;5;129;01mor\u001b[39;00m []]\n\u001b[32m    264\u001b[39m req_body = message_to_json(\n\u001b[32m    265\u001b[39m     CreateModelVersion(\n\u001b[32m    266\u001b[39m         name=name,\n\u001b[32m   (...)\u001b[39m\u001b[32m    273\u001b[39m     )\n\u001b[32m    274\u001b[39m )\n\u001b[32m--> \u001b[39m\u001b[32m275\u001b[39m response_proto = \u001b[38;5;28;43mself\u001b[39;49m\u001b[43m.\u001b[49m\u001b[43m_call_endpoint\u001b[49m\u001b[43m(\u001b[49m\u001b[43mCreateModelVersion\u001b[49m\u001b[43m,\u001b[49m\u001b[43m \u001b[49m\u001b[43mreq_body\u001b[49m\u001b[43m)\u001b[49m\n\u001b[32m    276\u001b[39m \u001b[38;5;28;01mreturn\u001b[39;00m ModelVersion.from_proto(response_proto.model_version)\n",
      "\u001b[36mFile \u001b[39m\u001b[32mc:\\Users\\henri\\Desktop\\Ideias\\MLOps\\zoomcamp\\mlops-zoomcamp\\venv\\Lib\\site-packages\\mlflow\\store\\model_registry\\base_rest_store.py:42\u001b[39m, in \u001b[36mBaseRestStore._call_endpoint\u001b[39m\u001b[34m(self, api, json_body, call_all_endpoints, extra_headers)\u001b[39m\n\u001b[32m     40\u001b[39m \u001b[38;5;28;01melse\u001b[39;00m:\n\u001b[32m     41\u001b[39m     endpoint, method = \u001b[38;5;28mself\u001b[39m._get_endpoint_from_method(api)\n\u001b[32m---> \u001b[39m\u001b[32m42\u001b[39m     \u001b[38;5;28;01mreturn\u001b[39;00m \u001b[43mcall_endpoint\u001b[49m\u001b[43m(\u001b[49m\n\u001b[32m     43\u001b[39m \u001b[43m        \u001b[49m\u001b[38;5;28;43mself\u001b[39;49m\u001b[43m.\u001b[49m\u001b[43mget_host_creds\u001b[49m\u001b[43m(\u001b[49m\u001b[43m)\u001b[49m\u001b[43m,\u001b[49m\u001b[43m \u001b[49m\u001b[43mendpoint\u001b[49m\u001b[43m,\u001b[49m\u001b[43m \u001b[49m\u001b[43mmethod\u001b[49m\u001b[43m,\u001b[49m\u001b[43m \u001b[49m\u001b[43mjson_body\u001b[49m\u001b[43m,\u001b[49m\u001b[43m \u001b[49m\u001b[43mresponse_proto\u001b[49m\u001b[43m,\u001b[49m\u001b[43m \u001b[49m\u001b[43mextra_headers\u001b[49m\n\u001b[32m     44\u001b[39m \u001b[43m    \u001b[49m\u001b[43m)\u001b[49m\n",
      "\u001b[36mFile \u001b[39m\u001b[32mc:\\Users\\henri\\Desktop\\Ideias\\MLOps\\zoomcamp\\mlops-zoomcamp\\venv\\Lib\\site-packages\\mlflow\\utils\\rest_utils.py:594\u001b[39m, in \u001b[36mcall_endpoint\u001b[39m\u001b[34m(host_creds, endpoint, method, json_body, response_proto, extra_headers, retry_timeout_seconds)\u001b[39m\n\u001b[32m    591\u001b[39m     call_kwargs[\u001b[33m\"\u001b[39m\u001b[33mjson\u001b[39m\u001b[33m\"\u001b[39m] = json_body\n\u001b[32m    592\u001b[39m     response = http_request(**call_kwargs)\n\u001b[32m--> \u001b[39m\u001b[32m594\u001b[39m response = \u001b[43mverify_rest_response\u001b[49m\u001b[43m(\u001b[49m\u001b[43mresponse\u001b[49m\u001b[43m,\u001b[49m\u001b[43m \u001b[49m\u001b[43mendpoint\u001b[49m\u001b[43m)\u001b[49m\n\u001b[32m    595\u001b[39m response_to_parse = response.text\n\u001b[32m    596\u001b[39m \u001b[38;5;28;01mtry\u001b[39;00m:\n",
      "\u001b[36mFile \u001b[39m\u001b[32mc:\\Users\\henri\\Desktop\\Ideias\\MLOps\\zoomcamp\\mlops-zoomcamp\\venv\\Lib\\site-packages\\mlflow\\utils\\rest_utils.py:308\u001b[39m, in \u001b[36mverify_rest_response\u001b[39m\u001b[34m(response, endpoint)\u001b[39m\n\u001b[32m    306\u001b[39m \u001b[38;5;28;01mif\u001b[39;00m response.status_code != \u001b[32m200\u001b[39m:\n\u001b[32m    307\u001b[39m     \u001b[38;5;28;01mif\u001b[39;00m _can_parse_as_json_object(response.text):\n\u001b[32m--> \u001b[39m\u001b[32m308\u001b[39m         \u001b[38;5;28;01mraise\u001b[39;00m RestException(json.loads(response.text))\n\u001b[32m    309\u001b[39m     \u001b[38;5;28;01melse\u001b[39;00m:\n\u001b[32m    310\u001b[39m         base_msg = (\n\u001b[32m    311\u001b[39m             \u001b[33mf\u001b[39m\u001b[33m\"\u001b[39m\u001b[33mAPI request to endpoint \u001b[39m\u001b[38;5;132;01m{\u001b[39;00mendpoint\u001b[38;5;132;01m}\u001b[39;00m\u001b[33m \u001b[39m\u001b[33m\"\u001b[39m\n\u001b[32m    312\u001b[39m             \u001b[33mf\u001b[39m\u001b[33m\"\u001b[39m\u001b[33mfailed with error code \u001b[39m\u001b[38;5;132;01m{\u001b[39;00mresponse.status_code\u001b[38;5;132;01m}\u001b[39;00m\u001b[33m != 200\u001b[39m\u001b[33m\"\u001b[39m\n\u001b[32m    313\u001b[39m         )\n",
      "\u001b[31mRestException\u001b[39m: INVALID_PARAMETER_VALUE: Invalid model version source: '0f819e7f82224966b77cc6c3c22a5414'. To use a local path as a model version source, the run_id request parameter has to be specified and the local path has to be contained within the artifact directory of the run specified by the run_id."
     ]
    }
   ],
   "source": [
    "model_run = mlflow.search_runs(experiment_ids = ['1']).loc[0].run_id\n"
   ]
  },
  {
   "cell_type": "code",
   "execution_count": 27,
   "id": "5a6ac689",
   "metadata": {},
   "outputs": [
    {
     "name": "stderr",
     "output_type": "stream",
     "text": [
      "Registered model 'iris-classifier' already exists. Creating a new version of this model...\n",
      "2025/08/10 20:45:14 WARNING mlflow.tracking._model_registry.fluent: Run with id 0f819e7f82224966b77cc6c3c22a5414 has no artifacts at artifact path 'models', registering model based on models:/m-a79011e86f51404e88c25a922461282c instead\n",
      "2025/08/10 20:45:15 INFO mlflow.store.model_registry.abstract_store: Waiting up to 300 seconds for model version to finish creation. Model name: iris-classifier, version 1\n",
      "Created version '1' of model 'iris-classifier'.\n"
     ]
    },
    {
     "data": {
      "text/plain": [
       "<ModelVersion: aliases=[], creation_timestamp=1754855114900, current_stage='None', deployment_job_state=<ModelVersionDeploymentJobState: current_task_name='', job_id='', job_state='DEPLOYMENT_JOB_CONNECTION_STATE_UNSPECIFIED', run_id='', run_state='DEPLOYMENT_JOB_RUN_STATE_UNSPECIFIED'>, description='', last_updated_timestamp=1754855114900, metrics=None, model_id=None, name='iris-classifier', params=None, run_id='0f819e7f82224966b77cc6c3c22a5414', run_link='', source='models:/m-a79011e86f51404e88c25a922461282c', status='READY', status_message=None, tags={}, user_id='', version='1'>"
      ]
     },
     "execution_count": 27,
     "metadata": {},
     "output_type": "execute_result"
    }
   ],
   "source": [
    "mlflow.register_model(model_uri=f\"runs:/{model_run}/models\", name='iris-classifier')"
   ]
  },
  {
   "cell_type": "code",
   "execution_count": null,
   "id": "e444714a",
   "metadata": {},
   "outputs": [],
   "source": []
  }
 ],
 "metadata": {
  "kernelspec": {
   "display_name": "venv",
   "language": "python",
   "name": "python3"
  },
  "language_info": {
   "codemirror_mode": {
    "name": "ipython",
    "version": 3
   },
   "file_extension": ".py",
   "mimetype": "text/x-python",
   "name": "python",
   "nbconvert_exporter": "python",
   "pygments_lexer": "ipython3",
   "version": "3.12.2"
  }
 },
 "nbformat": 4,
 "nbformat_minor": 5
}
